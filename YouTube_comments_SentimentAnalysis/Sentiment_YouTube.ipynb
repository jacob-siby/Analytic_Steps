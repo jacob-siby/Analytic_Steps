{
  "nbformat": 4,
  "nbformat_minor": 0,
  "metadata": {
    "kernelspec": {
      "language": "python",
      "display_name": "Python 3",
      "name": "python3"
    },
    "language_info": {
      "pygments_lexer": "ipython3",
      "nbconvert_exporter": "python",
      "version": "3.6.4",
      "file_extension": ".py",
      "codemirror_mode": {
        "name": "ipython",
        "version": 3
      },
      "name": "python",
      "mimetype": "text/x-python"
    },
    "colab": {
      "name": "Sentiment_YouTube.ipynb",
      "provenance": [],
      "collapsed_sections": []
    }
  },
  "cells": [
    {
      "cell_type": "code",
      "metadata": {
        "id": "xhuqZ4bBiCnx",
        "colab_type": "code",
        "colab": {
          "base_uri": "https://localhost:8080/",
          "height": 120
        },
        "outputId": "3facd4f4-4bef-405c-aa3f-0494db442469"
      },
      "source": [
        "from google.colab import drive\n",
        "drive.mount('/gdrive')"
      ],
      "execution_count": 1,
      "outputs": [
        {
          "output_type": "stream",
          "text": [
            "Go to this URL in a browser: https://accounts.google.com/o/oauth2/auth?client_id=947318989803-6bn6qk8qdgf4n4g3pfee6491hc0brc4i.apps.googleusercontent.com&redirect_uri=urn%3aietf%3awg%3aoauth%3a2.0%3aoob&response_type=code&scope=email%20https%3a%2f%2fwww.googleapis.com%2fauth%2fdocs.test%20https%3a%2f%2fwww.googleapis.com%2fauth%2fdrive%20https%3a%2f%2fwww.googleapis.com%2fauth%2fdrive.photos.readonly%20https%3a%2f%2fwww.googleapis.com%2fauth%2fpeopleapi.readonly\n",
            "\n",
            "Enter your authorization code:\n",
            "··········\n",
            "Mounted at /gdrive\n"
          ],
          "name": "stdout"
        }
      ]
    },
    {
      "cell_type": "code",
      "metadata": {
        "id": "2e_qzhUj0q6v",
        "colab_type": "code",
        "colab": {
          "base_uri": "https://localhost:8080/",
          "height": 339
        },
        "outputId": "ecc88a48-7b95-4908-c53c-e10963a85f56"
      },
      "source": [
        "pip install -U scikit-learn"
      ],
      "execution_count": 84,
      "outputs": [
        {
          "output_type": "stream",
          "text": [
            "Collecting scikit-learn\n",
            "\u001b[?25l  Downloading https://files.pythonhosted.org/packages/d9/3a/eb8d7bbe28f4787d140bb9df685b7d5bf6115c0e2a969def4027144e98b6/scikit_learn-0.23.1-cp36-cp36m-manylinux1_x86_64.whl (6.8MB)\n",
            "\u001b[K     |████████████████████████████████| 6.9MB 2.8MB/s \n",
            "\u001b[?25hRequirement already satisfied, skipping upgrade: scipy>=0.19.1 in /usr/local/lib/python3.6/dist-packages (from scikit-learn) (1.4.1)\n",
            "Collecting threadpoolctl>=2.0.0\n",
            "  Downloading https://files.pythonhosted.org/packages/f7/12/ec3f2e203afa394a149911729357aa48affc59c20e2c1c8297a60f33f133/threadpoolctl-2.1.0-py3-none-any.whl\n",
            "Requirement already satisfied, skipping upgrade: numpy>=1.13.3 in /usr/local/lib/python3.6/dist-packages (from scikit-learn) (1.18.5)\n",
            "Requirement already satisfied, skipping upgrade: joblib>=0.11 in /usr/local/lib/python3.6/dist-packages (from scikit-learn) (0.15.1)\n",
            "Installing collected packages: threadpoolctl, scikit-learn\n",
            "  Found existing installation: scikit-learn 0.22.2.post1\n",
            "    Uninstalling scikit-learn-0.22.2.post1:\n",
            "      Successfully uninstalled scikit-learn-0.22.2.post1\n",
            "Successfully installed scikit-learn-0.23.1 threadpoolctl-2.1.0\n"
          ],
          "name": "stdout"
        },
        {
          "output_type": "display_data",
          "data": {
            "application/vnd.colab-display-data+json": {
              "pip_warning": {
                "packages": [
                  "sklearn"
                ]
              }
            }
          },
          "metadata": {
            "tags": []
          }
        }
      ]
    },
    {
      "cell_type": "code",
      "metadata": {
        "id": "YnpqYeEMiaGb",
        "colab_type": "code",
        "colab": {
          "base_uri": "https://localhost:8080/",
          "height": 53
        },
        "outputId": "be559899-85fc-4c46-a331-08532647d514"
      },
      "source": [
        "from google.colab import drive\n",
        "drive.mount('/content/drive')"
      ],
      "execution_count": 10,
      "outputs": [
        {
          "output_type": "stream",
          "text": [
            "Drive already mounted at /content/drive; to attempt to forcibly remount, call drive.mount(\"/content/drive\", force_remount=True).\n"
          ],
          "name": "stdout"
        }
      ]
    },
    {
      "cell_type": "code",
      "metadata": {
        "id": "h9_R6yElik_z",
        "colab_type": "code",
        "colab": {}
      },
      "source": [
        "import os\n",
        "os.chdir(\"/content/drive/My Drive/Analytic-Steps-blogs/YouTube/Sentiment/fourth_blog/\")"
      ],
      "execution_count": 13,
      "outputs": []
    },
    {
      "cell_type": "code",
      "metadata": {
        "_uuid": "8f2839f25d086af736a60e9eeb907d3b93b6e0e5",
        "_cell_guid": "b1076dfc-b9ad-4769-8c92-a6c4dae69d19",
        "trusted": true,
        "id": "Os2Zzeq1fOPk",
        "colab_type": "code",
        "colab": {}
      },
      "source": [
        "\n",
        "\n",
        "import numpy as np # linear algebra\n",
        "import pandas as pd # data processing, CSV file I/O (e.g. pd.read_csv)\n",
        "import os\n",
        "import scipy\n",
        "\n",
        "\n",
        "import warnings\n",
        "warnings.filterwarnings(\"ignore\")\n"
      ],
      "execution_count": 1,
      "outputs": []
    },
    {
      "cell_type": "code",
      "metadata": {
        "trusted": true,
        "id": "fgJSTJ_3fOPq",
        "colab_type": "code",
        "colab": {}
      },
      "source": [
        "from textblob import TextBlob\n",
        "from sklearn import metrics\n",
        "from mlxtend.plotting import plot_confusion_matrix"
      ],
      "execution_count": 2,
      "outputs": []
    },
    {
      "cell_type": "code",
      "metadata": {
        "id": "u6HBiCN5jz0Z",
        "colab_type": "code",
        "colab": {
          "base_uri": "https://localhost:8080/",
          "height": 33
        },
        "outputId": "a2edcb85-0a00-4fce-b96b-f50d4b8b708b"
      },
      "source": [
        "ls"
      ],
      "execution_count": 12,
      "outputs": [
        {
          "output_type": "stream",
          "text": [
            "\u001b[0m\u001b[01;34mdrive\u001b[0m/  \u001b[01;34msample_data\u001b[0m/\n"
          ],
          "name": "stdout"
        }
      ]
    },
    {
      "cell_type": "code",
      "metadata": {
        "trusted": true,
        "id": "7UzPRyFrfOPy",
        "colab_type": "code",
        "colab": {}
      },
      "source": [
        "data = pd.read_csv(\"Dataset (1).csv\")"
      ],
      "execution_count": 14,
      "outputs": []
    },
    {
      "cell_type": "code",
      "metadata": {
        "trusted": true,
        "id": "8oQ_G11BfOP2",
        "colab_type": "code",
        "colab": {
          "base_uri": "https://localhost:8080/",
          "height": 196
        },
        "outputId": "7c704bfd-f84a-4aec-8ca7-d19aa5d3d0b7"
      },
      "source": [
        "data.head()"
      ],
      "execution_count": 15,
      "outputs": [
        {
          "output_type": "execute_result",
          "data": {
            "text/html": [
              "<div>\n",
              "<style scoped>\n",
              "    .dataframe tbody tr th:only-of-type {\n",
              "        vertical-align: middle;\n",
              "    }\n",
              "\n",
              "    .dataframe tbody tr th {\n",
              "        vertical-align: top;\n",
              "    }\n",
              "\n",
              "    .dataframe thead th {\n",
              "        text-align: right;\n",
              "    }\n",
              "</style>\n",
              "<table border=\"1\" class=\"dataframe\">\n",
              "  <thead>\n",
              "    <tr style=\"text-align: right;\">\n",
              "      <th></th>\n",
              "      <th>Video ID</th>\n",
              "      <th>Comment ID</th>\n",
              "      <th>comments</th>\n",
              "    </tr>\n",
              "  </thead>\n",
              "  <tbody>\n",
              "    <tr>\n",
              "      <th>0</th>\n",
              "      <td>nYh-n7EOtMA</td>\n",
              "      <td>UgjXwK1t2StW63gCoAEC</td>\n",
              "      <td>There  are  3  type  of  English        1    U...</td>\n",
              "    </tr>\n",
              "    <tr>\n",
              "      <th>1</th>\n",
              "      <td>nYh-n7EOtMA</td>\n",
              "      <td>UgxUOrU7YocYI9aar9h4AaABAg</td>\n",
              "      <td>There  are  3  types  of  English      1    Am...</td>\n",
              "    </tr>\n",
              "    <tr>\n",
              "      <th>2</th>\n",
              "      <td>nYh-n7EOtMA</td>\n",
              "      <td>UgxA-OfWaFFXYL5-PrB4AaABAg</td>\n",
              "      <td>The  face  of  the  girl  at  the  beginning  ...</td>\n",
              "    </tr>\n",
              "    <tr>\n",
              "      <th>3</th>\n",
              "      <td>nYh-n7EOtMA</td>\n",
              "      <td>UgzAMEhYy36fTajZ4tN4AaABAg</td>\n",
              "      <td>Even  the  lyrics  aren't  even  sure  what  S...</td>\n",
              "    </tr>\n",
              "    <tr>\n",
              "      <th>4</th>\n",
              "      <td>nYh-n7EOtMA</td>\n",
              "      <td>UgwvVJ-OkFhfudsjLb14AaABAg</td>\n",
              "      <td>Song      I  don't  need  no  money    Me    S...</td>\n",
              "    </tr>\n",
              "  </tbody>\n",
              "</table>\n",
              "</div>"
            ],
            "text/plain": [
              "      Video ID  ...                                           comments\n",
              "0  nYh-n7EOtMA  ...  There  are  3  type  of  English        1    U...\n",
              "1  nYh-n7EOtMA  ...  There  are  3  types  of  English      1    Am...\n",
              "2  nYh-n7EOtMA  ...  The  face  of  the  girl  at  the  beginning  ...\n",
              "3  nYh-n7EOtMA  ...  Even  the  lyrics  aren't  even  sure  what  S...\n",
              "4  nYh-n7EOtMA  ...  Song      I  don't  need  no  money    Me    S...\n",
              "\n",
              "[5 rows x 3 columns]"
            ]
          },
          "metadata": {
            "tags": []
          },
          "execution_count": 15
        }
      ]
    },
    {
      "cell_type": "code",
      "metadata": {
        "trusted": true,
        "id": "yAKqx7vafOP6",
        "colab_type": "code",
        "colab": {
          "base_uri": "https://localhost:8080/",
          "height": 33
        },
        "outputId": "51915a86-cd4f-42c5-ac01-8caf4f65ba21"
      },
      "source": [
        "data.shape"
      ],
      "execution_count": 16,
      "outputs": [
        {
          "output_type": "execute_result",
          "data": {
            "text/plain": [
              "(3161, 3)"
            ]
          },
          "metadata": {
            "tags": []
          },
          "execution_count": 16
        }
      ]
    },
    {
      "cell_type": "code",
      "metadata": {
        "trusted": true,
        "id": "r4vXRYZxfOQH",
        "colab_type": "code",
        "colab": {}
      },
      "source": [
        "data['polarity'] = data['comments'].apply(lambda x: TextBlob(x).sentiment.polarity)"
      ],
      "execution_count": 17,
      "outputs": []
    },
    {
      "cell_type": "code",
      "metadata": {
        "trusted": true,
        "id": "F3VyASGDfOQL",
        "colab_type": "code",
        "colab": {
          "base_uri": "https://localhost:8080/",
          "height": 196
        },
        "outputId": "c8a41037-8e48-4a19-b9f3-01aa370713ec"
      },
      "source": [
        "data.head()"
      ],
      "execution_count": 18,
      "outputs": [
        {
          "output_type": "execute_result",
          "data": {
            "text/html": [
              "<div>\n",
              "<style scoped>\n",
              "    .dataframe tbody tr th:only-of-type {\n",
              "        vertical-align: middle;\n",
              "    }\n",
              "\n",
              "    .dataframe tbody tr th {\n",
              "        vertical-align: top;\n",
              "    }\n",
              "\n",
              "    .dataframe thead th {\n",
              "        text-align: right;\n",
              "    }\n",
              "</style>\n",
              "<table border=\"1\" class=\"dataframe\">\n",
              "  <thead>\n",
              "    <tr style=\"text-align: right;\">\n",
              "      <th></th>\n",
              "      <th>Video ID</th>\n",
              "      <th>Comment ID</th>\n",
              "      <th>comments</th>\n",
              "      <th>polarity</th>\n",
              "    </tr>\n",
              "  </thead>\n",
              "  <tbody>\n",
              "    <tr>\n",
              "      <th>0</th>\n",
              "      <td>nYh-n7EOtMA</td>\n",
              "      <td>UgjXwK1t2StW63gCoAEC</td>\n",
              "      <td>There  are  3  type  of  English        1    U...</td>\n",
              "      <td>0.0</td>\n",
              "    </tr>\n",
              "    <tr>\n",
              "      <th>1</th>\n",
              "      <td>nYh-n7EOtMA</td>\n",
              "      <td>UgxUOrU7YocYI9aar9h4AaABAg</td>\n",
              "      <td>There  are  3  types  of  English      1    Am...</td>\n",
              "      <td>0.0</td>\n",
              "    </tr>\n",
              "    <tr>\n",
              "      <th>2</th>\n",
              "      <td>nYh-n7EOtMA</td>\n",
              "      <td>UgxA-OfWaFFXYL5-PrB4AaABAg</td>\n",
              "      <td>The  face  of  the  girl  at  the  beginning  ...</td>\n",
              "      <td>0.0</td>\n",
              "    </tr>\n",
              "    <tr>\n",
              "      <th>3</th>\n",
              "      <td>nYh-n7EOtMA</td>\n",
              "      <td>UgzAMEhYy36fTajZ4tN4AaABAg</td>\n",
              "      <td>Even  the  lyrics  aren't  even  sure  what  S...</td>\n",
              "      <td>0.5</td>\n",
              "    </tr>\n",
              "    <tr>\n",
              "      <th>4</th>\n",
              "      <td>nYh-n7EOtMA</td>\n",
              "      <td>UgwvVJ-OkFhfudsjLb14AaABAg</td>\n",
              "      <td>Song      I  don't  need  no  money    Me    S...</td>\n",
              "      <td>0.0</td>\n",
              "    </tr>\n",
              "  </tbody>\n",
              "</table>\n",
              "</div>"
            ],
            "text/plain": [
              "      Video ID  ... polarity\n",
              "0  nYh-n7EOtMA  ...      0.0\n",
              "1  nYh-n7EOtMA  ...      0.0\n",
              "2  nYh-n7EOtMA  ...      0.0\n",
              "3  nYh-n7EOtMA  ...      0.5\n",
              "4  nYh-n7EOtMA  ...      0.0\n",
              "\n",
              "[5 rows x 4 columns]"
            ]
          },
          "metadata": {
            "tags": []
          },
          "execution_count": 18
        }
      ]
    },
    {
      "cell_type": "markdown",
      "metadata": {
        "id": "aff7dlQffOQS",
        "colab_type": "text"
      },
      "source": [
        "## Shuffle the dataset"
      ]
    },
    {
      "cell_type": "code",
      "metadata": {
        "trusted": true,
        "id": "fAvRRLZZfOQS",
        "colab_type": "code",
        "colab": {}
      },
      "source": [
        "data = data.sample(frac=1).reset_index(drop=True)"
      ],
      "execution_count": 19,
      "outputs": []
    },
    {
      "cell_type": "code",
      "metadata": {
        "trusted": true,
        "id": "b3l65gBXfOQV",
        "colab_type": "code",
        "colab": {}
      },
      "source": [
        "data['pol_cat']  = 0"
      ],
      "execution_count": 20,
      "outputs": []
    },
    {
      "cell_type": "markdown",
      "metadata": {
        "id": "5eApxikxfOQX",
        "colab_type": "text"
      },
      "source": [
        "Continuous to categorical"
      ]
    },
    {
      "cell_type": "code",
      "metadata": {
        "trusted": true,
        "id": "FjSukaWYfOQY",
        "colab_type": "code",
        "colab": {}
      },
      "source": [
        "# data['pol_cat'][data.polarity == 0] = 0\n",
        "data['pol_cat'][data.polarity > 0] = 1\n",
        "data['pol_cat'][data.polarity <= 0] = -1\n"
      ],
      "execution_count": 21,
      "outputs": []
    },
    {
      "cell_type": "code",
      "metadata": {
        "trusted": true,
        "id": "UqA764VKfOQh",
        "colab_type": "code",
        "colab": {
          "base_uri": "https://localhost:8080/",
          "height": 196
        },
        "outputId": "07d5af80-c6e0-447a-d95d-2d7591c71556"
      },
      "source": [
        "data.head()"
      ],
      "execution_count": 22,
      "outputs": [
        {
          "output_type": "execute_result",
          "data": {
            "text/html": [
              "<div>\n",
              "<style scoped>\n",
              "    .dataframe tbody tr th:only-of-type {\n",
              "        vertical-align: middle;\n",
              "    }\n",
              "\n",
              "    .dataframe tbody tr th {\n",
              "        vertical-align: top;\n",
              "    }\n",
              "\n",
              "    .dataframe thead th {\n",
              "        text-align: right;\n",
              "    }\n",
              "</style>\n",
              "<table border=\"1\" class=\"dataframe\">\n",
              "  <thead>\n",
              "    <tr style=\"text-align: right;\">\n",
              "      <th></th>\n",
              "      <th>Video ID</th>\n",
              "      <th>Comment ID</th>\n",
              "      <th>comments</th>\n",
              "      <th>polarity</th>\n",
              "      <th>pol_cat</th>\n",
              "    </tr>\n",
              "  </thead>\n",
              "  <tbody>\n",
              "    <tr>\n",
              "      <th>0</th>\n",
              "      <td>nYh-n7EOtMA</td>\n",
              "      <td>Ugzab-Wshj4zrQwDE9V4AaABAg</td>\n",
              "      <td>This  song  will  never  get  old</td>\n",
              "      <td>0.10</td>\n",
              "      <td>1</td>\n",
              "    </tr>\n",
              "    <tr>\n",
              "      <th>1</th>\n",
              "      <td>nYh-n7EOtMA</td>\n",
              "      <td>Ugxljrq5dGYKBMgx5DF4AaABAg</td>\n",
              "      <td>Year    2020  And  we  are  here</td>\n",
              "      <td>0.00</td>\n",
              "      <td>-1</td>\n",
              "    </tr>\n",
              "    <tr>\n",
              "      <th>2</th>\n",
              "      <td>6mqbAnrtWHo</td>\n",
              "      <td>Ugw8ugUlJMXPsYjYYAV4AaABAg</td>\n",
              "      <td>t  is  nice  song        I  love  Sia</td>\n",
              "      <td>0.55</td>\n",
              "      <td>1</td>\n",
              "    </tr>\n",
              "    <tr>\n",
              "      <th>3</th>\n",
              "      <td>nYh-n7EOtMA</td>\n",
              "      <td>UgwHqVWZumMQKnRYZfx4AaABAg</td>\n",
              "      <td>U  must  have  or  definitely  need  english  ...</td>\n",
              "      <td>0.00</td>\n",
              "      <td>-1</td>\n",
              "    </tr>\n",
              "    <tr>\n",
              "      <th>4</th>\n",
              "      <td>nYh-n7EOtMA</td>\n",
              "      <td>UgxJHlpGl2nlEd_2bvd4AaABAg</td>\n",
              "      <td>I  don  t  want  to  know  how  much  times  s...</td>\n",
              "      <td>-0.15</td>\n",
              "      <td>-1</td>\n",
              "    </tr>\n",
              "  </tbody>\n",
              "</table>\n",
              "</div>"
            ],
            "text/plain": [
              "      Video ID                  Comment ID  ... polarity  pol_cat\n",
              "0  nYh-n7EOtMA  Ugzab-Wshj4zrQwDE9V4AaABAg  ...     0.10        1\n",
              "1  nYh-n7EOtMA  Ugxljrq5dGYKBMgx5DF4AaABAg  ...     0.00       -1\n",
              "2  6mqbAnrtWHo  Ugw8ugUlJMXPsYjYYAV4AaABAg  ...     0.55        1\n",
              "3  nYh-n7EOtMA  UgwHqVWZumMQKnRYZfx4AaABAg  ...     0.00       -1\n",
              "4  nYh-n7EOtMA  UgxJHlpGl2nlEd_2bvd4AaABAg  ...    -0.15       -1\n",
              "\n",
              "[5 rows x 5 columns]"
            ]
          },
          "metadata": {
            "tags": []
          },
          "execution_count": 22
        }
      ]
    },
    {
      "cell_type": "code",
      "metadata": {
        "trusted": true,
        "id": "HjyjS1yqfOQx",
        "colab_type": "code",
        "colab": {
          "base_uri": "https://localhost:8080/",
          "height": 67
        },
        "outputId": "eb584b3d-58c9-4b97-b41a-d1394f5c71cb"
      },
      "source": [
        "data['pol_cat'].value_counts()"
      ],
      "execution_count": 23,
      "outputs": [
        {
          "output_type": "execute_result",
          "data": {
            "text/plain": [
              " 1    1722\n",
              "-1    1439\n",
              "Name: pol_cat, dtype: int64"
            ]
          },
          "metadata": {
            "tags": []
          },
          "execution_count": 23
        }
      ]
    },
    {
      "cell_type": "markdown",
      "metadata": {
        "id": "GUaFvHcLfOQ2",
        "colab_type": "text"
      },
      "source": [
        "Create separate dataframes for Negative,Positive & Neutral comments "
      ]
    },
    {
      "cell_type": "code",
      "metadata": {
        "trusted": true,
        "id": "AFKmSBwcfOQ3",
        "colab_type": "code",
        "colab": {}
      },
      "source": [
        "data_pos = data[data['pol_cat'] == 1]\n",
        "data_pos = data_pos.reset_index(drop = True)\n",
        "\n",
        "data_neg = data[data['pol_cat'] == -1]\n",
        "data_neg = data_neg.reset_index(drop = True)\n",
        "\n",
        "# data_neutral = data[data['pol_cat'] == 0]\n",
        "# data_neutral = data_neutral.reset_index(drop = True)"
      ],
      "execution_count": 24,
      "outputs": []
    },
    {
      "cell_type": "code",
      "metadata": {
        "trusted": true,
        "id": "viYbRp2ifOQ-",
        "colab_type": "code",
        "colab": {
          "base_uri": "https://localhost:8080/",
          "height": 196
        },
        "outputId": "fc2f1ada-3a1c-4537-aaaa-de1ef557ce4c"
      },
      "source": [
        "data_pos.head()"
      ],
      "execution_count": 25,
      "outputs": [
        {
          "output_type": "execute_result",
          "data": {
            "text/html": [
              "<div>\n",
              "<style scoped>\n",
              "    .dataframe tbody tr th:only-of-type {\n",
              "        vertical-align: middle;\n",
              "    }\n",
              "\n",
              "    .dataframe tbody tr th {\n",
              "        vertical-align: top;\n",
              "    }\n",
              "\n",
              "    .dataframe thead th {\n",
              "        text-align: right;\n",
              "    }\n",
              "</style>\n",
              "<table border=\"1\" class=\"dataframe\">\n",
              "  <thead>\n",
              "    <tr style=\"text-align: right;\">\n",
              "      <th></th>\n",
              "      <th>Video ID</th>\n",
              "      <th>Comment ID</th>\n",
              "      <th>comments</th>\n",
              "      <th>polarity</th>\n",
              "      <th>pol_cat</th>\n",
              "    </tr>\n",
              "  </thead>\n",
              "  <tbody>\n",
              "    <tr>\n",
              "      <th>0</th>\n",
              "      <td>nYh-n7EOtMA</td>\n",
              "      <td>Ugzab-Wshj4zrQwDE9V4AaABAg</td>\n",
              "      <td>This  song  will  never  get  old</td>\n",
              "      <td>0.10</td>\n",
              "      <td>1</td>\n",
              "    </tr>\n",
              "    <tr>\n",
              "      <th>1</th>\n",
              "      <td>6mqbAnrtWHo</td>\n",
              "      <td>Ugw8ugUlJMXPsYjYYAV4AaABAg</td>\n",
              "      <td>t  is  nice  song        I  love  Sia</td>\n",
              "      <td>0.55</td>\n",
              "      <td>1</td>\n",
              "    </tr>\n",
              "    <tr>\n",
              "      <th>2</th>\n",
              "      <td>6mqbAnrtWHo</td>\n",
              "      <td>Ugxp0bMfufcK5pA0oYB4AaABAg</td>\n",
              "      <td>I  love  this  song</td>\n",
              "      <td>0.50</td>\n",
              "      <td>1</td>\n",
              "    </tr>\n",
              "    <tr>\n",
              "      <th>3</th>\n",
              "      <td>nYh-n7EOtMA</td>\n",
              "      <td>UgzBpbYsfNwlpj91s914AaABAg</td>\n",
              "      <td>i  loved  the  part  where  the  director  sees</td>\n",
              "      <td>0.70</td>\n",
              "      <td>1</td>\n",
              "    </tr>\n",
              "    <tr>\n",
              "      <th>4</th>\n",
              "      <td>31crA53Dgu0</td>\n",
              "      <td>UgjrdLS8CMzcFngCoAEC</td>\n",
              "      <td>Sia  is  so  brilliant</td>\n",
              "      <td>0.90</td>\n",
              "      <td>1</td>\n",
              "    </tr>\n",
              "  </tbody>\n",
              "</table>\n",
              "</div>"
            ],
            "text/plain": [
              "      Video ID                  Comment ID  ... polarity  pol_cat\n",
              "0  nYh-n7EOtMA  Ugzab-Wshj4zrQwDE9V4AaABAg  ...     0.10        1\n",
              "1  6mqbAnrtWHo  Ugw8ugUlJMXPsYjYYAV4AaABAg  ...     0.55        1\n",
              "2  6mqbAnrtWHo  Ugxp0bMfufcK5pA0oYB4AaABAg  ...     0.50        1\n",
              "3  nYh-n7EOtMA  UgzBpbYsfNwlpj91s914AaABAg  ...     0.70        1\n",
              "4  31crA53Dgu0        UgjrdLS8CMzcFngCoAEC  ...     0.90        1\n",
              "\n",
              "[5 rows x 5 columns]"
            ]
          },
          "metadata": {
            "tags": []
          },
          "execution_count": 25
        }
      ]
    },
    {
      "cell_type": "code",
      "metadata": {
        "trusted": true,
        "id": "LMQlLiuhfORF",
        "colab_type": "code",
        "colab": {
          "base_uri": "https://localhost:8080/",
          "height": 33
        },
        "outputId": "5a549478-8f8e-4dcc-94d2-3642b0df4ec7"
      },
      "source": [
        "data_pos.shape"
      ],
      "execution_count": 26,
      "outputs": [
        {
          "output_type": "execute_result",
          "data": {
            "text/plain": [
              "(1722, 5)"
            ]
          },
          "metadata": {
            "tags": []
          },
          "execution_count": 26
        }
      ]
    },
    {
      "cell_type": "code",
      "metadata": {
        "trusted": true,
        "id": "uEpv5BBDfORJ",
        "colab_type": "code",
        "colab": {
          "base_uri": "https://localhost:8080/",
          "height": 196
        },
        "outputId": "f9220711-8c9d-4447-f11b-486c8e358213"
      },
      "source": [
        "data_neg.head()"
      ],
      "execution_count": 27,
      "outputs": [
        {
          "output_type": "execute_result",
          "data": {
            "text/html": [
              "<div>\n",
              "<style scoped>\n",
              "    .dataframe tbody tr th:only-of-type {\n",
              "        vertical-align: middle;\n",
              "    }\n",
              "\n",
              "    .dataframe tbody tr th {\n",
              "        vertical-align: top;\n",
              "    }\n",
              "\n",
              "    .dataframe thead th {\n",
              "        text-align: right;\n",
              "    }\n",
              "</style>\n",
              "<table border=\"1\" class=\"dataframe\">\n",
              "  <thead>\n",
              "    <tr style=\"text-align: right;\">\n",
              "      <th></th>\n",
              "      <th>Video ID</th>\n",
              "      <th>Comment ID</th>\n",
              "      <th>comments</th>\n",
              "      <th>polarity</th>\n",
              "      <th>pol_cat</th>\n",
              "    </tr>\n",
              "  </thead>\n",
              "  <tbody>\n",
              "    <tr>\n",
              "      <th>0</th>\n",
              "      <td>nYh-n7EOtMA</td>\n",
              "      <td>Ugxljrq5dGYKBMgx5DF4AaABAg</td>\n",
              "      <td>Year    2020  And  we  are  here</td>\n",
              "      <td>0.00</td>\n",
              "      <td>-1</td>\n",
              "    </tr>\n",
              "    <tr>\n",
              "      <th>1</th>\n",
              "      <td>nYh-n7EOtMA</td>\n",
              "      <td>UgwHqVWZumMQKnRYZfx4AaABAg</td>\n",
              "      <td>U  must  have  or  definitely  need  english  ...</td>\n",
              "      <td>0.00</td>\n",
              "      <td>-1</td>\n",
              "    </tr>\n",
              "    <tr>\n",
              "      <th>2</th>\n",
              "      <td>nYh-n7EOtMA</td>\n",
              "      <td>UgxJHlpGl2nlEd_2bvd4AaABAg</td>\n",
              "      <td>I  don  t  want  to  know  how  much  times  s...</td>\n",
              "      <td>-0.15</td>\n",
              "      <td>-1</td>\n",
              "    </tr>\n",
              "    <tr>\n",
              "      <th>3</th>\n",
              "      <td>nYh-n7EOtMA</td>\n",
              "      <td>UghcISiUaTCexHgCoAEC</td>\n",
              "      <td>I  AM  SORRY  BABY  I  NEED  DOLAR  B  LLS  TO...</td>\n",
              "      <td>-0.10</td>\n",
              "      <td>-1</td>\n",
              "    </tr>\n",
              "    <tr>\n",
              "      <th>4</th>\n",
              "      <td>nYh-n7EOtMA</td>\n",
              "      <td>UgxTu5tMFRyLEilhzkp4AaABAg</td>\n",
              "      <td>This  is  how  aliens  came  to  earth  and  t...</td>\n",
              "      <td>0.00</td>\n",
              "      <td>-1</td>\n",
              "    </tr>\n",
              "  </tbody>\n",
              "</table>\n",
              "</div>"
            ],
            "text/plain": [
              "      Video ID                  Comment ID  ... polarity  pol_cat\n",
              "0  nYh-n7EOtMA  Ugxljrq5dGYKBMgx5DF4AaABAg  ...     0.00       -1\n",
              "1  nYh-n7EOtMA  UgwHqVWZumMQKnRYZfx4AaABAg  ...     0.00       -1\n",
              "2  nYh-n7EOtMA  UgxJHlpGl2nlEd_2bvd4AaABAg  ...    -0.15       -1\n",
              "3  nYh-n7EOtMA        UghcISiUaTCexHgCoAEC  ...    -0.10       -1\n",
              "4  nYh-n7EOtMA  UgxTu5tMFRyLEilhzkp4AaABAg  ...     0.00       -1\n",
              "\n",
              "[5 rows x 5 columns]"
            ]
          },
          "metadata": {
            "tags": []
          },
          "execution_count": 27
        }
      ]
    },
    {
      "cell_type": "code",
      "metadata": {
        "trusted": true,
        "id": "Zv_eLUh8fORS",
        "colab_type": "code",
        "colab": {
          "base_uri": "https://localhost:8080/",
          "height": 33
        },
        "outputId": "e747fb2e-991f-4f16-c638-2b7ae2d1bb36"
      },
      "source": [
        "data_neg['comments'][40]"
      ],
      "execution_count": 28,
      "outputs": [
        {
          "output_type": "execute_result",
          "data": {
            "text/plain": [
              "\"NO  ONE  CARES  WHAT  TIME  YOU'RE  HERE\""
            ]
          },
          "metadata": {
            "tags": []
          },
          "execution_count": 28
        }
      ]
    },
    {
      "cell_type": "code",
      "metadata": {
        "trusted": true,
        "id": "-Js16up1fORW",
        "colab_type": "code",
        "colab": {
          "base_uri": "https://localhost:8080/",
          "height": 315
        },
        "outputId": "705e178e-c870-47e7-9fc6-946144b9541b"
      },
      "source": [
        "data.pol_cat.value_counts().plot.bar()\n",
        "data.pol_cat.value_counts()"
      ],
      "execution_count": 29,
      "outputs": [
        {
          "output_type": "execute_result",
          "data": {
            "text/plain": [
              " 1    1722\n",
              "-1    1439\n",
              "Name: pol_cat, dtype: int64"
            ]
          },
          "metadata": {
            "tags": []
          },
          "execution_count": 29
        },
        {
          "output_type": "display_data",
          "data": {
            "image/png": "[encoded data removed]",
            "text/plain": [
              "<Figure size 432x288 with 1 Axes>"
            ]
          },
          "metadata": {
            "tags": [],
            "needs_background": "light"
          }
        }
      ]
    },
    {
      "cell_type": "markdown",
      "metadata": {
        "id": "uPIRm-0gfORj",
        "colab_type": "text"
      },
      "source": [
        "## Data Preprocessing"
      ]
    },
    {
      "cell_type": "markdown",
      "metadata": {
        "id": "ADfF9AAZfORk",
        "colab_type": "text"
      },
      "source": [
        "Lower the text in comments"
      ]
    },
    {
      "cell_type": "code",
      "metadata": {
        "trusted": true,
        "id": "zcUC0pIFfORl",
        "colab_type": "code",
        "colab": {}
      },
      "source": [
        "data['comments'] = data['comments'].str.lower()"
      ],
      "execution_count": 30,
      "outputs": []
    },
    {
      "cell_type": "code",
      "metadata": {
        "trusted": true,
        "id": "X14Mvov6fORr",
        "colab_type": "code",
        "colab": {
          "base_uri": "https://localhost:8080/",
          "height": 117
        },
        "outputId": "22d96ad8-bab8-4d84-9de8-49eec1768216"
      },
      "source": [
        "data['comments'].head()"
      ],
      "execution_count": 31,
      "outputs": [
        {
          "output_type": "execute_result",
          "data": {
            "text/plain": [
              "0                  this  song  will  never  get  old  \n",
              "1                   year    2020  and  we  are  here  \n",
              "2                t  is  nice  song        i  love  sia\n",
              "3    u  must  have  or  definitely  need  english  ...\n",
              "4    i  don  t  want  to  know  how  much  times  s...\n",
              "Name: comments, dtype: object"
            ]
          },
          "metadata": {
            "tags": []
          },
          "execution_count": 31
        }
      ]
    },
    {
      "cell_type": "code",
      "metadata": {
        "trusted": true,
        "id": "5yFhcEwffORz",
        "colab_type": "code",
        "colab": {
          "base_uri": "https://localhost:8080/",
          "height": 286
        },
        "outputId": "2ee3b394-9c77-45bf-acc3-8989cc90c385"
      },
      "source": [
        "data.describe()"
      ],
      "execution_count": 32,
      "outputs": [
        {
          "output_type": "execute_result",
          "data": {
            "text/html": [
              "<div>\n",
              "<style scoped>\n",
              "    .dataframe tbody tr th:only-of-type {\n",
              "        vertical-align: middle;\n",
              "    }\n",
              "\n",
              "    .dataframe tbody tr th {\n",
              "        vertical-align: top;\n",
              "    }\n",
              "\n",
              "    .dataframe thead th {\n",
              "        text-align: right;\n",
              "    }\n",
              "</style>\n",
              "<table border=\"1\" class=\"dataframe\">\n",
              "  <thead>\n",
              "    <tr style=\"text-align: right;\">\n",
              "      <th></th>\n",
              "      <th>polarity</th>\n",
              "      <th>pol_cat</th>\n",
              "    </tr>\n",
              "  </thead>\n",
              "  <tbody>\n",
              "    <tr>\n",
              "      <th>count</th>\n",
              "      <td>3161.000000</td>\n",
              "      <td>3161.000000</td>\n",
              "    </tr>\n",
              "    <tr>\n",
              "      <th>mean</th>\n",
              "      <td>0.230283</td>\n",
              "      <td>0.089529</td>\n",
              "    </tr>\n",
              "    <tr>\n",
              "      <th>std</th>\n",
              "      <td>0.311702</td>\n",
              "      <td>0.996142</td>\n",
              "    </tr>\n",
              "    <tr>\n",
              "      <th>min</th>\n",
              "      <td>-1.000000</td>\n",
              "      <td>-1.000000</td>\n",
              "    </tr>\n",
              "    <tr>\n",
              "      <th>25%</th>\n",
              "      <td>0.000000</td>\n",
              "      <td>-1.000000</td>\n",
              "    </tr>\n",
              "    <tr>\n",
              "      <th>50%</th>\n",
              "      <td>0.156250</td>\n",
              "      <td>1.000000</td>\n",
              "    </tr>\n",
              "    <tr>\n",
              "      <th>75%</th>\n",
              "      <td>0.500000</td>\n",
              "      <td>1.000000</td>\n",
              "    </tr>\n",
              "    <tr>\n",
              "      <th>max</th>\n",
              "      <td>1.000000</td>\n",
              "      <td>1.000000</td>\n",
              "    </tr>\n",
              "  </tbody>\n",
              "</table>\n",
              "</div>"
            ],
            "text/plain": [
              "          polarity      pol_cat\n",
              "count  3161.000000  3161.000000\n",
              "mean      0.230283     0.089529\n",
              "std       0.311702     0.996142\n",
              "min      -1.000000    -1.000000\n",
              "25%       0.000000    -1.000000\n",
              "50%       0.156250     1.000000\n",
              "75%       0.500000     1.000000\n",
              "max       1.000000     1.000000"
            ]
          },
          "metadata": {
            "tags": []
          },
          "execution_count": 32
        }
      ]
    },
    {
      "cell_type": "code",
      "metadata": {
        "trusted": true,
        "id": "km6dIMhWfOR5",
        "colab_type": "code",
        "colab": {
          "base_uri": "https://localhost:8080/",
          "height": 217
        },
        "outputId": "d3dd7b78-3ab3-496d-eff3-f4654e3ec77a"
      },
      "source": [
        "data.info()"
      ],
      "execution_count": 33,
      "outputs": [
        {
          "output_type": "stream",
          "text": [
            "<class 'pandas.core.frame.DataFrame'>\n",
            "RangeIndex: 3161 entries, 0 to 3160\n",
            "Data columns (total 5 columns):\n",
            " #   Column      Non-Null Count  Dtype  \n",
            "---  ------      --------------  -----  \n",
            " 0   Video ID    3161 non-null   object \n",
            " 1   Comment ID  3161 non-null   object \n",
            " 2   comments    3161 non-null   object \n",
            " 3   polarity    3161 non-null   float64\n",
            " 4   pol_cat     3161 non-null   int64  \n",
            "dtypes: float64(1), int64(1), object(3)\n",
            "memory usage: 123.6+ KB\n"
          ],
          "name": "stdout"
        }
      ]
    },
    {
      "cell_type": "code",
      "metadata": {
        "trusted": true,
        "id": "avjaCC79fOSE",
        "colab_type": "code",
        "colab": {
          "base_uri": "https://localhost:8080/",
          "height": 33
        },
        "outputId": "d2edb796-fe6d-458f-874f-a16e271b9152"
      },
      "source": [
        "data['comments'][0]"
      ],
      "execution_count": 34,
      "outputs": [
        {
          "output_type": "execute_result",
          "data": {
            "text/plain": [
              "'this  song  will  never  get  old  '"
            ]
          },
          "metadata": {
            "tags": []
          },
          "execution_count": 34
        }
      ]
    },
    {
      "cell_type": "code",
      "metadata": {
        "trusted": true,
        "id": "V4zfsTUifOSO",
        "colab_type": "code",
        "colab": {
          "base_uri": "https://localhost:8080/",
          "height": 33
        },
        "outputId": "e284938f-135a-41bf-b1e2-f4704a038811"
      },
      "source": [
        "data['comments'][0].strip()"
      ],
      "execution_count": 35,
      "outputs": [
        {
          "output_type": "execute_result",
          "data": {
            "text/plain": [
              "'this  song  will  never  get  old'"
            ]
          },
          "metadata": {
            "tags": []
          },
          "execution_count": 35
        }
      ]
    },
    {
      "cell_type": "code",
      "metadata": {
        "id": "pVxZ8KK_vbm4",
        "colab_type": "code",
        "colab": {
          "base_uri": "https://localhost:8080/",
          "height": 67
        },
        "outputId": "4037e4d3-d7f6-4f2a-c9d3-4bb3c4af6a1d"
      },
      "source": [
        "import nltk\n",
        "nltk.download(\"stopwords\")"
      ],
      "execution_count": 36,
      "outputs": [
        {
          "output_type": "stream",
          "text": [
            "[nltk_data] Downloading package stopwords to /root/nltk_data...\n",
            "[nltk_data]   Package stopwords is already up-to-date!\n"
          ],
          "name": "stdout"
        },
        {
          "output_type": "execute_result",
          "data": {
            "text/plain": [
              "True"
            ]
          },
          "metadata": {
            "tags": []
          },
          "execution_count": 36
        }
      ]
    },
    {
      "cell_type": "code",
      "metadata": {
        "id": "ugZWXdNOyBKq",
        "colab_type": "code",
        "colab": {
          "base_uri": "https://localhost:8080/",
          "height": 67
        },
        "outputId": "8069c1f4-492d-4f3a-ce5f-df1998c951b6"
      },
      "source": [
        "nltk.download(\"punkt\")"
      ],
      "execution_count": 37,
      "outputs": [
        {
          "output_type": "stream",
          "text": [
            "[nltk_data] Downloading package punkt to /root/nltk_data...\n",
            "[nltk_data]   Package punkt is already up-to-date!\n"
          ],
          "name": "stdout"
        },
        {
          "output_type": "execute_result",
          "data": {
            "text/plain": [
              "True"
            ]
          },
          "metadata": {
            "tags": []
          },
          "execution_count": 37
        }
      ]
    },
    {
      "cell_type": "code",
      "metadata": {
        "trusted": true,
        "id": "fC4ig8cyfOSa",
        "colab_type": "code",
        "colab": {}
      },
      "source": [
        "from nltk.corpus import stopwords\n",
        "from nltk import word_tokenize\n",
        "import string\n",
        "import re\n",
        "import nltk"
      ],
      "execution_count": 38,
      "outputs": []
    },
    {
      "cell_type": "code",
      "metadata": {
        "id": "FdcsbqXTvYLB",
        "colab_type": "code",
        "colab": {
          "base_uri": "https://localhost:8080/",
          "height": 53
        },
        "outputId": "6686fa2c-aa5e-42ff-c8aa-2ac4038bb483"
      },
      "source": [
        "print(stopwords.words('english'))"
      ],
      "execution_count": 42,
      "outputs": [
        {
          "output_type": "stream",
          "text": [
            "['i', 'me', 'my', 'myself', 'we', 'our', 'ours', 'ourselves', 'you', \"you're\", \"you've\", \"you'll\", \"you'd\", 'your', 'yours', 'yourself', 'yourselves', 'he', 'him', 'his', 'himself', 'she', \"she's\", 'her', 'hers', 'herself', 'it', \"it's\", 'its', 'itself', 'they', 'them', 'their', 'theirs', 'themselves', 'what', 'which', 'who', 'whom', 'this', 'that', \"that'll\", 'these', 'those', 'am', 'is', 'are', 'was', 'were', 'be', 'been', 'being', 'have', 'has', 'had', 'having', 'do', 'does', 'did', 'doing', 'a', 'an', 'the', 'and', 'but', 'if', 'or', 'because', 'as', 'until', 'while', 'of', 'at', 'by', 'for', 'with', 'about', 'against', 'between', 'into', 'through', 'during', 'before', 'after', 'above', 'below', 'to', 'from', 'up', 'down', 'in', 'out', 'on', 'off', 'over', 'under', 'again', 'further', 'then', 'once', 'here', 'there', 'when', 'where', 'why', 'how', 'all', 'any', 'both', 'each', 'few', 'more', 'most', 'other', 'some', 'such', 'no', 'nor', 'not', 'only', 'own', 'same', 'so', 'than', 'too', 'very', 's', 't', 'can', 'will', 'just', 'don', \"don't\", 'should', \"should've\", 'now', 'd', 'll', 'm', 'o', 're', 've', 'y', 'ain', 'aren', \"aren't\", 'couldn', \"couldn't\", 'didn', \"didn't\", 'doesn', \"doesn't\", 'hadn', \"hadn't\", 'hasn', \"hasn't\", 'haven', \"haven't\", 'isn', \"isn't\", 'ma', 'mightn', \"mightn't\", 'mustn', \"mustn't\", 'needn', \"needn't\", 'shan', \"shan't\", 'shouldn', \"shouldn't\", 'wasn', \"wasn't\", 'weren', \"weren't\", 'won', \"won't\", 'wouldn', \"wouldn't\"]\n"
          ],
          "name": "stdout"
        }
      ]
    },
    {
      "cell_type": "code",
      "metadata": {
        "trusted": true,
        "id": "pYrDplBYfOSc",
        "colab_type": "code",
        "colab": {}
      },
      "source": [
        "stop_words = set(stopwords.words('english'))"
      ],
      "execution_count": 43,
      "outputs": []
    },
    {
      "cell_type": "code",
      "metadata": {
        "trusted": true,
        "id": "k-kxFfPlfOSe",
        "colab_type": "code",
        "colab": {}
      },
      "source": [
        "data['comments'] = data['comments'].str.strip()"
      ],
      "execution_count": 44,
      "outputs": []
    },
    {
      "cell_type": "code",
      "metadata": {
        "trusted": true,
        "id": "QOJwKjV5fOSh",
        "colab_type": "code",
        "colab": {}
      },
      "source": [
        "train = data.copy()"
      ],
      "execution_count": 45,
      "outputs": []
    },
    {
      "cell_type": "code",
      "metadata": {
        "trusted": true,
        "id": "QFxxu3HLfOSn",
        "colab_type": "code",
        "colab": {}
      },
      "source": [
        "train['comments'] = train['comments'].str.strip()"
      ],
      "execution_count": 46,
      "outputs": []
    },
    {
      "cell_type": "code",
      "metadata": {
        "trusted": true,
        "id": "MEYK2fHjfOSq",
        "colab_type": "code",
        "colab": {
          "base_uri": "https://localhost:8080/",
          "height": 33
        },
        "outputId": "73e4ba29-6767-4654-ea1d-65125c3dcc23"
      },
      "source": [
        "train['comments'][0]"
      ],
      "execution_count": 47,
      "outputs": [
        {
          "output_type": "execute_result",
          "data": {
            "text/plain": [
              "'this  song  will  never  get  old'"
            ]
          },
          "metadata": {
            "tags": []
          },
          "execution_count": 47
        }
      ]
    },
    {
      "cell_type": "code",
      "metadata": {
        "trusted": true,
        "id": "7dutEBJ9fOSt",
        "colab_type": "code",
        "colab": {}
      },
      "source": [
        "def remove_stopwords(line):\n",
        "    word_tokens = word_tokenize(line)\n",
        "    filtered_sentence = [w for w in word_tokens if not w in stop_words]\n",
        "    return \" \".join(filtered_sentence)"
      ],
      "execution_count": 48,
      "outputs": []
    },
    {
      "cell_type": "code",
      "metadata": {
        "trusted": true,
        "id": "N6_eOPkLfOSy",
        "colab_type": "code",
        "colab": {}
      },
      "source": [
        "data['stop_comments'] = data['comments'].apply(lambda x : remove_stopwords(x))"
      ],
      "execution_count": 49,
      "outputs": []
    },
    {
      "cell_type": "code",
      "metadata": {
        "trusted": true,
        "id": "ecShTkF6fOS3",
        "colab_type": "code",
        "colab": {
          "base_uri": "https://localhost:8080/",
          "height": 196
        },
        "outputId": "335d0a5f-8ef7-4c52-d118-53ea31874f78"
      },
      "source": [
        "data.head()"
      ],
      "execution_count": 50,
      "outputs": [
        {
          "output_type": "execute_result",
          "data": {
            "text/html": [
              "<div>\n",
              "<style scoped>\n",
              "    .dataframe tbody tr th:only-of-type {\n",
              "        vertical-align: middle;\n",
              "    }\n",
              "\n",
              "    .dataframe tbody tr th {\n",
              "        vertical-align: top;\n",
              "    }\n",
              "\n",
              "    .dataframe thead th {\n",
              "        text-align: right;\n",
              "    }\n",
              "</style>\n",
              "<table border=\"1\" class=\"dataframe\">\n",
              "  <thead>\n",
              "    <tr style=\"text-align: right;\">\n",
              "      <th></th>\n",
              "      <th>Video ID</th>\n",
              "      <th>Comment ID</th>\n",
              "      <th>comments</th>\n",
              "      <th>polarity</th>\n",
              "      <th>pol_cat</th>\n",
              "      <th>stop_comments</th>\n",
              "    </tr>\n",
              "  </thead>\n",
              "  <tbody>\n",
              "    <tr>\n",
              "      <th>0</th>\n",
              "      <td>nYh-n7EOtMA</td>\n",
              "      <td>Ugzab-Wshj4zrQwDE9V4AaABAg</td>\n",
              "      <td>this  song  will  never  get  old</td>\n",
              "      <td>0.10</td>\n",
              "      <td>1</td>\n",
              "      <td>song never get old</td>\n",
              "    </tr>\n",
              "    <tr>\n",
              "      <th>1</th>\n",
              "      <td>nYh-n7EOtMA</td>\n",
              "      <td>Ugxljrq5dGYKBMgx5DF4AaABAg</td>\n",
              "      <td>year    2020  and  we  are  here</td>\n",
              "      <td>0.00</td>\n",
              "      <td>-1</td>\n",
              "      <td>year 2020</td>\n",
              "    </tr>\n",
              "    <tr>\n",
              "      <th>2</th>\n",
              "      <td>6mqbAnrtWHo</td>\n",
              "      <td>Ugw8ugUlJMXPsYjYYAV4AaABAg</td>\n",
              "      <td>t  is  nice  song        i  love  sia</td>\n",
              "      <td>0.55</td>\n",
              "      <td>1</td>\n",
              "      <td>nice song love sia</td>\n",
              "    </tr>\n",
              "    <tr>\n",
              "      <th>3</th>\n",
              "      <td>nYh-n7EOtMA</td>\n",
              "      <td>UgwHqVWZumMQKnRYZfx4AaABAg</td>\n",
              "      <td>u  must  have  or  definitely  need  english  ...</td>\n",
              "      <td>0.00</td>\n",
              "      <td>-1</td>\n",
              "      <td>u must definitely need english subtitles sean ...</td>\n",
              "    </tr>\n",
              "    <tr>\n",
              "      <th>4</th>\n",
              "      <td>nYh-n7EOtMA</td>\n",
              "      <td>UgxJHlpGl2nlEd_2bvd4AaABAg</td>\n",
              "      <td>i  don  t  want  to  know  how  much  times  s...</td>\n",
              "      <td>-0.15</td>\n",
              "      <td>-1</td>\n",
              "      <td>want know much times someone failed got hurt m...</td>\n",
              "    </tr>\n",
              "  </tbody>\n",
              "</table>\n",
              "</div>"
            ],
            "text/plain": [
              "      Video ID  ...                                      stop_comments\n",
              "0  nYh-n7EOtMA  ...                                 song never get old\n",
              "1  nYh-n7EOtMA  ...                                          year 2020\n",
              "2  6mqbAnrtWHo  ...                                 nice song love sia\n",
              "3  nYh-n7EOtMA  ...  u must definitely need english subtitles sean ...\n",
              "4  nYh-n7EOtMA  ...  want know much times someone failed got hurt m...\n",
              "\n",
              "[5 rows x 6 columns]"
            ]
          },
          "metadata": {
            "tags": []
          },
          "execution_count": 50
        }
      ]
    },
    {
      "cell_type": "code",
      "metadata": {
        "trusted": true,
        "id": "7H8Xj_JRfOS7",
        "colab_type": "code",
        "colab": {}
      },
      "source": [
        "from sklearn.model_selection import train_test_split"
      ],
      "execution_count": 51,
      "outputs": []
    },
    {
      "cell_type": "code",
      "metadata": {
        "trusted": true,
        "id": "PaoU_bOvfOTN",
        "colab_type": "code",
        "colab": {}
      },
      "source": [
        "X_train,X_test,y_train,y_test = train_test_split(data['stop_comments'],data['pol_cat'],test_size = 0.2,random_state = 324)"
      ],
      "execution_count": 52,
      "outputs": []
    },
    {
      "cell_type": "code",
      "metadata": {
        "trusted": true,
        "id": "3zj--smRfOTP",
        "colab_type": "code",
        "colab": {
          "base_uri": "https://localhost:8080/",
          "height": 33
        },
        "outputId": "b387a82c-2e11-436a-ff7f-030caf335d99"
      },
      "source": [
        "X_train.shape"
      ],
      "execution_count": 53,
      "outputs": [
        {
          "output_type": "execute_result",
          "data": {
            "text/plain": [
              "(2528,)"
            ]
          },
          "metadata": {
            "tags": []
          },
          "execution_count": 53
        }
      ]
    },
    {
      "cell_type": "code",
      "metadata": {
        "trusted": true,
        "id": "U05hiD8DfOTS",
        "colab_type": "code",
        "colab": {
          "base_uri": "https://localhost:8080/",
          "height": 33
        },
        "outputId": "099ca42a-4146-412d-9def-f536917cf44d"
      },
      "source": [
        "X_test.shape"
      ],
      "execution_count": 54,
      "outputs": [
        {
          "output_type": "execute_result",
          "data": {
            "text/plain": [
              "(633,)"
            ]
          },
          "metadata": {
            "tags": []
          },
          "execution_count": 54
        }
      ]
    },
    {
      "cell_type": "code",
      "metadata": {
        "trusted": true,
        "id": "dlw1BR_ufOTe",
        "colab_type": "code",
        "colab": {
          "base_uri": "https://localhost:8080/",
          "height": 67
        },
        "outputId": "a307cddd-5ef0-4aba-819c-13683b46957e"
      },
      "source": [
        "data['pol_cat'].value_counts()"
      ],
      "execution_count": 55,
      "outputs": [
        {
          "output_type": "execute_result",
          "data": {
            "text/plain": [
              " 1    1722\n",
              "-1    1439\n",
              "Name: pol_cat, dtype: int64"
            ]
          },
          "metadata": {
            "tags": []
          },
          "execution_count": 55
        }
      ]
    },
    {
      "cell_type": "markdown",
      "metadata": {
        "id": "xGaouqyyfOTi",
        "colab_type": "text"
      },
      "source": [
        "## Gonna Apply Logistic Regression"
      ]
    },
    {
      "cell_type": "code",
      "metadata": {
        "trusted": true,
        "id": "Y2rtvhbufOTj",
        "colab_type": "code",
        "colab": {}
      },
      "source": [
        "from sklearn.feature_extraction.text import CountVectorizer"
      ],
      "execution_count": 56,
      "outputs": []
    },
    {
      "cell_type": "code",
      "metadata": {
        "trusted": true,
        "id": "qMJXYfjdfOTr",
        "colab_type": "code",
        "colab": {}
      },
      "source": [
        "from sklearn.feature_extraction.text import CountVectorizer, TfidfVectorizer \n",
        "vect = CountVectorizer()\n",
        "tf_train = vect.fit_transform(X_train)\n",
        "tf_test = vect.transform(X_test)"
      ],
      "execution_count": 57,
      "outputs": []
    },
    {
      "cell_type": "code",
      "metadata": {
        "trusted": true,
        "id": "QtrJNPojfOTv",
        "colab_type": "code",
        "colab": {
          "base_uri": "https://localhost:8080/",
          "height": 33
        },
        "outputId": "7a613693-edda-4eda-df93-74d684aa07e2"
      },
      "source": [
        "tf_train.shape"
      ],
      "execution_count": 58,
      "outputs": [
        {
          "output_type": "execute_result",
          "data": {
            "text/plain": [
              "(2528, 3278)"
            ]
          },
          "metadata": {
            "tags": []
          },
          "execution_count": 58
        }
      ]
    },
    {
      "cell_type": "markdown",
      "metadata": {
        "id": "zeWvrFV1fOTy",
        "colab_type": "text"
      },
      "source": [
        "### Print the Vocabulary"
      ]
    },
    {
      "cell_type": "code",
      "metadata": {
        "trusted": true,
        "id": "YVIZNPOSfOTz",
        "colab_type": "code",
        "colab": {
          "base_uri": "https://localhost:8080/",
          "height": 53
        },
        "outputId": "4ec137bd-7d3f-4da4-8f80-74ad066d01ee"
      },
      "source": [
        "print(vect.vocabulary_)"
      ],
      "execution_count": 59,
      "outputs": [
        {
          "output_type": "stream",
          "text": [
            "{'like': 1696, 'lenguaghe': 1674, 'english': 1008, 'nude': 2050, 'color': 671, 'skin': 2621, 'leotard': 1677, 'available': 326, 'outfit': 2118, 'cool': 717, 'didnt': 868, 'nutcracker': 2054, 'guys': 1325, 'tights': 2921, 'fine': 1144, 'dont': 908, 'since': 2597, 'song': 2669, 'badass': 348, 'harley': 1357, 'quinn': 2324, 'japanese': 1548, 'babes': 340, 'snd': 2651, 'chic': 610, 'thanks': 2865, 'good': 1281, 'youre': 3263, 'sorta': 2682, 'thing': 2880, 'threwup': 2901, 'little': 1721, 'jk': 1556, 'bye': 516, 'tobwohtuiudiowkgdoue9cgdtc': 2941, 'types': 3011, 'lot': 1749, 'come': 676, 'turn': 2997, 'radio': 2334, 'friday': 1200, 'night': 2017, 'wo': 3186, 'long': 1739, 'got': 1288, 'ta': 2809, 'hair': 1342, 'put': 2308, 'make': 1809, 'till': 2927, 'hit': 1410, 'dance': 802, 'floor': 1160, 'need': 1998, 'ai': 218, 'cash': 557, 'baby': 341, 'dollar': 905, 'bills': 424, 'fun': 1211, 'tonight': 2951, 'love': 1753, 'cheap': 594, 'thrills': 2905, 'money': 1929, 'feel': 1121, 'beat': 378, 'keep': 1589, 'dancing': 809, 'finally': 1141, 'fount': 1188, 'british': 484, 'american': 254, 'sean': 2502, 'paul': 2158, 'loves': 1759, 'damn': 799, 'sia': 2579, 'back': 343, 'performances': 2181, 'next': 2012, '1000year': 12, 'liked': 1697, '03': 4, 'go': 1267, 'looks': 1743, '1968': 41, 'one': 2089, 'thinks': 2884, '13': 20, 'sounds': 2688, 'epic': 1019, 'wow': 3215, 'excellent': 1053, '2020': 62, 'time': 2930, 'cgeap': 568, 'trills': 2981, 'awkward': 332, 'moment': 1925, 'says': 2489, 'lets': 1684, 'listen': 1708, 'sit': 2614, 'staring': 2726, 'starts': 2732, 'heard': 1375, 'young': 3261, 'writting': 3219, 'comment': 682, 'lol': 1736, 'first': 1151, 'girl': 1252, '28': 86, 'listening': 1712, 'today': 2942, 'every': 1041, 'corona': 733, 'tima': 2929, 'wont': 3195, 'wooowwwwwwww': 3199, 'wax': 3123, 'figure': 1136, 'going': 1273, 'extremely': 1072, 'easy': 966, 'get': 1243, 'regular': 2387, 'mannequin': 1822, 'wig': 3172, 'sitting': 2615, 'chair': 572, 'ddd': 819, 'thrill': 2902, 'become': 387, 'famous': 1095, 'party': 2147, 'yo': 3258, 'cam': 523, 'stop': 2745, 'watching': 3121, 'billie': 422, 'eilish': 980, 'best': 402, 'coronavirus': 734, 'jam': 1543, 'searching': 2506, 'comments': 684, 'thumbs': 2913, 'music': 1966, 'covid': 748, '19': 32, '56': 137, 'ever': 1039, 'group': 1311, 'cheography': 608, 'people': 2170, 'came': 525, 'years': 3249, 'later': 1649, 'puke': 2304, 'quarantine': 2313, 'special': 2697, 'visionary': 3081, 'adore': 199, 'focused': 1167, 'creating': 761, 'personal': 2185, 'appearance': 283, 'inspiring': 1500, 'focusing': 1168, 'spreading': 2714, 'message': 1884, 'loving': 1761, 'finding': 1143, 'happiness': 1354, 'places': 2213, 'also': 245, 'catchy': 559, 'songs': 2673, 'stay': 2735, 'slaying': 2627, 'charts': 589, 'ca': 517, 'head': 1366, 'beautiful': 382, 'human': 1446, 'happy': 1355, 'part': 2142, 'industry': 1492, 'unique': 3035, 'voice': 3082, 'copied': 728, 'deserves': 852, 'anyhow': 277, 'aspire': 308, 'singer': 2602, 'someday': 2661, 'would': 3213, 'feedback': 1120, 'covers': 747, 'including': 1484, 'recent': 2370, 'originals': 2110, 'may': 1852, 'improve': 1483, 'happen': 1349, 'really': 2363, 'mean': 1857, 'invasive': 1516, 'starting': 2731, 'difficult': 874, 'find': 1142, 'idea': 1457, 'completely': 689, 'understand': 3031, 'busy': 511, 'world': 3208, 'regardless': 2383, 'hope': 1425, 'wonderful': 3192, 'week': 3130, 'sure': 2790, 'spread': 2713, 'positivity': 2246, 'hide': 1400, 'face': 1076, 'mask': 1831, 'want': 3106, 'see': 2514, 'bro': 486, 'much': 1959, 'views': 3078, 'subscriber': 2771, 'valley': 3057, 'worth': 3212, 'dan': 800, 'diamonds': 866, 'gold': 1275, 'india': 1488, 'makes': 1811, 'miss': 1910, 'year': 3248, '2016': 57, 'maddie': 1794, 'ziegler': 3273, '11': 13, 'making': 1814, 'million': 1899, '20': 48, 'liking': 1699, 'read': 2354, 'name': 1990, 'matter': 1844, 'difference': 871, 'mysterious': 1982, 'better': 406, 'without': 3185, 'tbh': 2832, 'everytime': 1047, 'hear': 1374, 'yes': 3253, 'whant': 3145, 'let': 1681, 'indonesia': 1491, 'collabs': 667, 'gymnasts': 1332, 'paint': 2132, 'nails': 1988, 'high': 1402, 'heels': 1381, 'heart': 1377, 'attack': 315, 'wear': 3127, 'awsome': 333, 'anyone': 278, 'io': 1519, 'ok': 2078, 'december': 825, '2019': 60, 'gve': 1326, 'encanta': 996, 'even': 1038, '18': 29, 'subs': 2769, 'fav': 1108, 'think': 2882, 'mind': 1901, 'crying': 773, 'sm': 2635, 'day': 816, 'dancemomsseason1': 805, 'language': 1640, 'called': 520, 'jamaican': 1545, 'patios': 2156, 'creole': 767, 'capital': 536, 've': 3062, 'twice': 3006, 'beutifull': 407, 'carantino': 542, 'joe': 1559, 'gatto': 1235, 'impractical': 1481, 'jokers': 1565, 'brought': 490, 'great': 1303, 'always': 248, 'laugh': 1650, 'video': 3072, 'school': 2494, 'needs': 1999, 'start': 2729, 'teaching': 2837, 'us': 3050, 'minecraft': 1904, 'three': 2898, 'know': 1616, 'rocks': 2448, 'perfect': 2175, 'hey': 1396, 'job': 1557, 'appreciate': 286, 'nice': 2014, 'holy': 1419, 'crap': 755, 'looking': 1742, 'life': 1694, 'favourite': 1112, 'quarantined': 2314, 'many': 1825, 'qurantine': 2330, 'fact': 1080, 'blonde': 434, 'lady': 1635, 'asian': 300, 'dude': 941, '54': 135, 'masked': 1832, 'dancers': 807, 'wigs': 3173, 'said': 2474, 'person': 2184, 'thought': 2894, 'meant': 1860, 'started': 2730, 'assumptions': 312, 'zingler': 3276, 'mom': 1924, 'amazing': 250, 'remimds': 2402, 'nirvana': 2022, 'bloom': 436, '1955': 39, 'look': 1740, 'listened': 1710, 'cheep': 605, 'sog': 2657, 'oh': 2074, 'lovely': 1756, 'stranger': 2751, 'worries': 3209, 'end': 998, 'sing': 2598, 'perfectly': 2177, 'lines': 1702, 'chip': 623, 'touching': 2958, 'curious': 778, 'never': 2007, 'performance': 2180, 'moms': 1926, 'everyone': 1045, 'reading': 2355, 'safe': 2473, 'healthy': 1372, 'take': 2814, 'care': 545, 'please': 2221, 'met': 1885, 'mother': 1943, 'intelligent': 1506, 'artists': 298, 'perspective': 2189, 'different': 872, 'others': 2116, '2018': 59, 'whatever': 3146, 'grandma': 1297, 'house': 1437, 'died': 870, 'male': 1816, 'crazy': 757, '10': 9, '90': 157, 'teacher': 2835, 'use': 3052, 'dandelion': 810, 'sentence': 2533, 'student': 2759, 'cheetah': 607, 'faster': 1106, 'lion': 1703, 'chosen': 634, 'dancer': 806, 'advantage': 200, 'sexuality': 2546, 'likes': 1698, 'videos': 3073, 'female': 1130, 'dances': 808, 'tend': 2853, 'show': 2572, 'flesh': 1155, 'public': 2301, 'makest': 1812, 'clear': 647, 'talent': 2819, 'superficial': 2787, 'reason': 2367, '34': 103, 'realise': 2358, 'traveller': 2970, 'future': 1221, 'lieked': 1693, 'hi': 1398, '2021': 64, 'virus': 3080, 'gone': 1279, 'osm': 2113, 'ive': 1536, 'favorite': 1110, 'gets': 1244, 'old': 2084, 'funtastik': 1215, 'magnificence': 1805, 'beauty': 384, 'puts': 2310, 'lake': 1636, 'facts': 1081, 'masterpiece': 1838, '264k': 84, 'dislikes': 895, 'autotune': 325, 'addicts': 190, 'crush': 771, 'whenever': 3149, 'man': 1820, 'saturday': 2481, 'oooh': 2095, 'la': 1632, 'im': 1472, 'gon': 1278, 'na': 1985, 'swing': 2800, 'chandelier': 577, 'chandelieeeeeeeerrrr': 576, 'mek': 1868, 'de': 820, 'control': 712, 'prefer': 2261, 'lyrics': 1786, 'saying': 2487, '15': 24, '21': 72, 'seconds': 2511, 'absolutely': 171, 'mix': 1915, 'fab': 1075, 'singers': 2603, 'feeling': 1123, 'real': 2357, 'dear': 822, 'literally': 1719, 'published': 2302, '95': 163, 'half': 1344, 'naked': 1989, 'ladies': 1634, 'twerk': 3005, '126': 17, 'god': 1269, '14k': 23, 'disliked': 894, 'dis': 883, 'usa': 3051, 'uk': 3017, 'canada': 529, 'australia': 323, 'new': 2009, 'zealand': 3270, 'agreed': 209, 'imagine': 1475, 'made': 1798, '50s': 130, 'else': 988, 'agrees': 211, 'pitch': 2209, 'remember': 2399, 'hearing': 1376, 'sixflags': 2618, 'novembre': 2047, 'xd': 3231, 'hate': 1359, 'less': 1678, 'tell': 2848, 'breast': 472, 'budding': 503, 'channels': 583, 'hippity': 1408, 'hoppity': 1428, 'property': 2288, 'prefers': 2262, 'things': 2881, 'happened': 1351, 'neighbour': 2001, 'bus': 509, 'lost': 1748, 'drivers': 929, 'license': 1689, 'watch': 3118, 'june': 1577, 'screen': 2499, 'sometimes': 2665, 'quite': 2326, 'impossible': 1480, 'select': 2521, 'cant': 534, 'wait': 3095, '1st': 47, 'bad': 346, '2nd': 92, '3rd': 108, '4th': 127, 'addicted': 187, '5th': 142, 'whole': 3158, 'totally': 2956, 'edit': 971, 'thax': 2870, 'lockdown': 1732, 'nyce': 2058, 'favourites': 1113, 'bored': 451, 'lock': 1731, 'normal': 2035, 'diamond': 865, 'biddbagg': 415, 'mwoore': 1980, 'daaeemond': 791, 'gould': 1290, 'write': 3216, 'urdu': 3047, 'spanish': 2693, 'kid': 1600, 'someone': 2663, 'explain': 1061, 'confused': 701, 'reminds': 2407, 'marty': 1829, 'went': 3142, 'played': 2217, 'kind': 1608, '16': 27, 'pause': 2161, 'cantrool': 535, 'random': 2339, 'newly': 2010, 'discovering': 890, 'ps': 2294, 'word': 3201, 'google': 1284, 'translator': 2967, 'speak': 2694, 'bc': 372, 'meat': 1862, 'month': 1934, 'left': 1666, 'ones': 2090, '43': 114, 'dumpster': 947, 'four': 1189, 'united': 3036, 'kingdom': 1612, 'america': 253, 'omg': 2087, 'rocky': 2449, 'horror': 1430, 'picture': 2199, 'tribute': 2977, 'warp': 3112, 'energetic': 1004, 'audition': 320, 'niece': 2016, 'wish': 3181, 'luck': 1776, 'knew': 1615, 'could': 739, 'incredible': 1486, 'choreography': 631, 'seriously': 2538, '58': 139, 'background': 344, 'playing': 2218, 'call': 519, 'duty': 952, 'kills': 1606, 'tune': 2995, 'still': 2744, 'trying': 2991, 'vids': 3074, 'probably': 2276, 'already': 243, 'well': 3139, 'speaking': 2696, 'turkish': 2996, 'thats': 2869, 'translation': 2966, 'support': 2788, 'channel': 582, 'serve': 2539, 'humanity': 1447, 'plus': 2224, 'nouvelle': 2044, 'cha': 570, 'ne': 1995, 'besoin': 401, 'aide': 219, 'gfjsvdksvskxgsjchdkcgdkcgdgdkdgdudjxbd': 1247, 'turns': 2999, 'awesome': 330, 'listing': 1715, 'playlist': 2219, 'sad': 2472, 'crazily': 756, 'team': 2838, 'langue': 1642, 'jock': 1558, 'something': 2664, 'greatest': 1304, 'yass': 3242, 'work': 3203, 'imma': 1477, 'search': 2504, 'list': 1707, 'yep': 3251, 'belief': 395, 'jj': 1555, 'gg': 1248, 'peeped': 2168, 'teatea': 2840, 'march': 1827, 'jun': 1576, 'title': 2939, 'sea': 2501, 'origenal': 2107, 'watches': 3120, 'august': 321, 'popular': 2240, 'actually': 184, 'gymnastics': 1331, 'motivated': 1947, 'paulish': 2159, 'parents': 2140, 'words': 3202, 'yet': 3256, 'nostalgia': 2038, 'sung': 2784, 'ballerina': 353, 'pony': 2235, 'shark': 2553, 'tale': 2817, 'cute': 785, 'adding': 191, 'thousand': 2896, 'times': 2931, 'gives': 1259, 'millions': 1900, 'musch': 1964, 'verry': 3065, 'women': 3190, 'way': 3124, 'wild': 3174, 'nyc': 2057, 'beating': 380, 'mast': 1837, 'home': 1420, 'glad': 1261, 'tongue': 2950, 'tweet': 3003, 'earlier': 958, 'lower': 1764, 'price': 2272, 'ticket': 2919, 'concert': 696, 'artist': 296, 'doesnt': 902, 'ee': 972, 'quartine': 2319, 'thos': 2893, 'superb': 2786, 'tamilnadu': 2825, 'showed': 2573, 'dad': 793, 'fake': 1086, '80s': 154, 'black': 428, 'white': 3154, 'give': 1257, 'tries': 2979, 'dreaming': 923, '75': 152, '33': 102, 'thx': 2915, 'unbelievably': 3027, 'clicked': 648, 'shit': 2560, 'depressed': 846, 'say': 2485, 'helping': 1391, 'dying': 953, 'version': 3066, 'primary': 2274, 'mams': 1819, '57': 138, 'boys': 461, 'mexican': 1886, 'border': 450, 'jusus': 1583, 'iv': 1535, 'noticed': 2042, 'magnificent': 1806, 'smash': 2641, 'shoure': 2570, 'xxxx': 3236, 'listens': 1714, 'asked': 304, '17': 28, 'forces': 1177, 'smile': 2643, 'nobody': 2025, 'cared': 546, 'case': 556, 'lyric': 1783, 'official': 2071, 'quality': 2311, 'waw': 3122, 'shout': 2571, 'chanel': 578, 'rock': 2446, 'bounce': 456, 'todos': 2943, 'juntos': 1578, 'til': 2925, '100': 10, 'thank': 2864, 'accurate': 178, 'smell': 2642, 'air': 221, 'judgment': 1571, 'escape': 1025, 'ask': 303, 'reads': 2356, 'father': 1107, 'live': 1722, 'shool': 2565, 'learning': 1659, 'dat': 814, 'voodoo': 3086, 'dem': 838, 'college': 668, 'everywhere': 1048, 'alot': 242, 'shocked': 2564, 'talk': 2821, 'ay': 335, 'mach': 1790, 'cuse': 782, 'aint': 220, 'pay': 2163, 'luv': 1779, 'kings': 1613, 'queens': 2322, 'jagoda': 1540, 'wi': 3164, 'nia': 2013, 'victory': 3070, 'narcos': 1992, 'losings': 1747, 'ithis': 1532, 'page': 2130, 'effort': 975, 'currently': 779, 'wth': 3224, 'zieglar': 3271, 'outstanding': 2121, 'thirlls': 2886, 'perfomance': 2179, 'pon': 2233, 'repeat': 2410, 'quarentine': 2317, 'danced': 803, 'interschool': 1513, 'compitition': 688, 'karnataka': 1587, 'bengaluru': 399, 'commercial': 685, 'brittish': 485, 'anything': 279, 'guy': 1324, 'singing': 2604, 'remix': 2408, 'neighbours': 2002, 'threw': 2900, 'brick': 475, 'window': 3176, 'broke': 487, 'paper': 2137, 'scissor': 2496, 'realized': 2362, '40': 109, 'muito': 1960, 'bom': 442, 'tha': 2862, 'single': 2605, 'held': 1385, 'hatss': 1363, 'writer': 3217, 'goo': 1280, 'musically': 1969, 'vibes': 3069, 'airtel': 224, 'addvertisment': 194, 'owes': 2124, 'representative': 2415, 'jamaica': 1544, 'middle': 1893, 'memories': 1872, 'rilly': 2438, 'africa': 206, 'kampala': 1585, 'uganda': 3013, 'mike': 1896, 'sick': 2587, 'signs': 2591, 'obvious': 2061, 'art': 295, 'yay': 3243, 'trel': 2974, '09': 8, 'amidst': 256, 'button': 513, 'halloween': 1346, '31': 99, 'october': 2063, 'stuck': 2758, 'ah': 212, 'randomly': 2340, 'men': 1876, 'second': 2510, 'third': 2885, 'bottom': 454, 'addiction': 188, 'aliens': 230, 'earth': 963, 'taught': 2831, 'changes': 580, 'mood': 1937, 'ear': 956, 'pods': 2228, 'll': 1724, 'might': 1895, 'check': 603, 'acoustic': 181, 'cover': 746, 'couple': 740, 're': 2349, 'hard': 1356, '2099': 69, 'hello': 1387, 'creative': 762, 'game': 1227, 'right': 2434, 'pairs': 2134, 'props': 2289, 'series': 2537, 'working': 3205, 'fit': 1152, 'together': 2944, 'sy': 2803, 'musique': 1973, 'found': 1187, 'legend': 1668, 'enjoy': 1009, 'threes': 2899, 'pandemic': 2136, 'sister': 2612, 'learned': 1658, 'choreo': 628, 'shows': 2576, 'expressions': 1068, 'true': 2986, 'subtitles': 2774, 'joke': 1564, 'weird': 3135, 'soul': 2684, 'idiots': 1460, 'add': 186, 'pubg': 2300, 'meh': 1865, 'grills': 1309, 'duo': 950, 'kevin': 1594, 'systrom': 2808, 'instagram': 1503, '2012': 53, 'facebook': 1077, 'quit': 2325, 'jump': 1574, 'small': 2638, 'progress': 2283, 'movement': 1949, '700': 148, '1000': 11, '200': 49, '12': 15, '25': 78, 'https': 1443, 'www': 3228, 'meipian8': 1867, 'cn': 657, '2wndlqcq': 95, 'share': 2552, 'singlemessage': 2606, 'uid': 3016, '19196379': 33, 'isappinstalled': 1524, 'depth': 849, 'selff': 2525, 'weiyun': 3137, 'com': 674, '5ujgbdk': 144, '5tsiz2i': 143, 'running': 2468, 'away': 329, 'fear': 1114, 'songg': 2671, 'fir': 1147, 'poul': 2251, 'almost': 239, 'bet': 405, 'earn': 960, 'shopping': 2566, 'minute': 1907, 'means': 1859, 'friend': 1202, 'myusic': 1984, 'ending': 1000, 'terminando': 2857, 'el': 984, 'con': 693, 'esta': 1033, 'canci': 530, 'trip': 2982, 'york': 3259, 'heated': 1378, 'classic': 644, 'done': 907, 'mi': 1889, 'lyke': 1782, 'tho': 2891, 'miusic': 1914, 'built': 505, 'enjoying': 1011, 'fullest': 1210, 'speedpaints': 2700, 'falshbacks': 1090, 'aside': 301, 'last': 1646, 'sound': 2686, 'preforming': 2263, 'ball': 352, 'ad': 185, 'thiz': 2890, '99': 164, 'effect': 973, 'morning': 1941, 'idians': 1459, 'drink': 927, 'family': 1093, 'mode': 1919, 'months': 1935, 'girlfriend': 1253, 'smart': 2640, 'sweet': 2798, 'talented': 2820, 'romantic': 2453, 'nah': 1986, 'april': 287, 'fools': 1174, 'football': 1175, 'ps3': 2295, '2013': 54, 'whats': 3147, 'bwzbw': 515, 'wonder': 3191, 'wanting': 3108, '32': 101, '000': 1, 'view': 3075, 'mine': 1903, 'proves': 2293, 'winning': 3179, 'matters': 1846, 'passion': 2151, 'slayed': 2626, 'must': 1974, 'hv': 1450, 'glue': 1264, 'attached': 314, 'undestand': 3034, 'line': 1701, 'brother': 488, 'stealing': 2739, 'question': 2323, 'sayin': 2486, 'everybody': 1042, 'carries': 552, 'card': 543, 'mins': 1906, 'mad': 1793, 'die': 869, 'choreographer': 629, 'body': 441, 'moonwalk': 1939, 'mj': 1917, 'lover': 1757, 'fresh': 1199, 'road': 2442, 'bringing': 481, '27': 85, 'fart': 1102, 'remeber': 2398, 'play': 2215, 'weekend': 3131, 'friends': 1203, 'outside': 2120, 'comes': 680, 'watched': 3119, 'eyes': 1073, 'move': 1948, 'flexible': 1156, 'known': 1618, 'knows': 1619, 'extravagance': 1070, 'focus': 1166, 'fvrt': 1223, 'pakistan': 2135, 'thrils': 2906, 'section': 2512, 'calendar': 518, 'budabang': 501, 'mon': 1927, 'loved': 1754, '50': 128, 'walking': 3101, 'around': 294, 'seeing': 2515, 'hehehehehehe': 1384, 'fire': 1148, 'youtube': 3266, 'used': 3053, 'fan': 1096, 'conditioner': 697, 'yrs': 3268, 'ago': 207, '202': 61, 'guess': 1318, '26': 81, 'gusta': 1323, 'wvery': 3227, 'fo': 1165, 'famliy': 1094, 'ppl': 2256, 'photo': 2195, 'swera': 2799, 'sombody': 2660, 'gangsta': 1231, 'talking': 2822, 'enchantment': 997, 'table': 2810, 'bang': 356, 'collabbing': 664, 'nudity': 2051, 'power': 2253, 'tap': 2830, 'moving': 1953, 'pure': 2307, 'bless': 432, 'honest': 1423, 'recommendations': 2374, 'summer': 2781, 'meeeeeee': 1863, 'bada': 347, 'di': 862, 'jus': 1579, 'tek': 2847, 'free': 1194, 'outta': 2122, 'drop': 932, 'energy': 1005, 'nuh': 2052, 'seek': 2516, 'wah': 3094, 'fi': 1134, 'ting': 2934, 'weak': 3125, 'cuh': 775, 'anytime': 280, 'wine': 3177, 'kotch': 1622, 'selector': 2522, 'pull': 2305, 'touch': 2957, 'pocket': 2227, 'nuttn': 2055, 'maidenhead': 1807, 'weeks': 3133, 'unrecognizable': 3039, 'captions': 538, 'unavailable': 3025, 'gueen': 1317, 'memos': 1875, 'pov': 2252, 'roblox': 2444, 'girls': 1255, 'club': 655, 'compared': 686, 'despacito': 856, 'somewhere': 2666, 'originally': 2109, 'wrote': 3222, 'rihanna': 2436, 'rejected': 2388, 'cause': 562, 'cooler': 718, 'explanation': 1062, 'opinion': 2100, 'two': 3008, 'travellers': 2971, 'tired': 2937, 'decide': 826, 'past': 2153, 'release': 2395, 'participate': 2143, 'tipe': 2935, 'tipes': 2936, 'created': 759, 'stupid': 2765, 'sooooooo': 2680, 'everyday': 1043, 'rich': 2429, 'spoiled': 2709, 'brat': 465, 'reminder': 2405, 'copy': 729, 'paste': 2154, 'pop': 2238, 'ahh': 214, 'killed': 1604, 'albany': 228, 'ny': 2056, 'area': 289, 'top': 2954, 'stations': 2734, 'airs': 223, 'replaced': 2412, 'fly': 1164, '92': 162, 'funny': 1214, 'slow': 2633, 'motion': 1944, 'vert': 3067, 'thxs': 2916, 'comentarent': 679, 'introduced': 1515, 'modern': 1921, 'forms': 1183, 'cmon': 656, 'quarantaine': 2312, 'movements': 1950, 'oficialy': 2072, 'godmother': 1270, 'thiirls': 2879, 'forward': 1185, 'another': 272, 'collaboration': 666, 'remarkably': 2397, 'refreshingly': 2381, 'vibe': 3068, 'laughing': 1651, 'sings': 2609, 'shown': 2575, 'minions': 1905, 'characters': 584, 'wifi': 3171, 'password': 2152, 'router': 2460, '22': 76, 'seen': 2519, 'seductively': 2513, 'jared': 1549, 'leto': 1682, 'door': 909, 'older': 2085, 'genius': 1241, 'scorer': 2497, 'frozen': 1205, 'shoulder': 2569, 'chaep': 571, 'gim': 1251, 'gf': 1246, 'nearly': 1996, 'loses': 1746, 'balance': 351, 'warning': 3111, 'unseen': 3040, 'sqeeee': 2715, 'especially': 1029, 'straight': 2749, 'frend': 1197, 'piklets': 2204, 'oxford': 2125, 'dictionary': 867, 'updated': 3044, 'consulting': 707, 'illuminati': 1469, 'confirmed': 699, 'reference': 2377, 'fravourite': 1191, 'forever': 1178, 'ameii': 252, 'shall': 2550, 'tears': 2839, 'classroom': 646, 'classmate': 645, 'yahhhhhh': 3239, 'audio': 319, 'meaning': 1858, 'realz': 2366, 'breaking': 470, 'news': 2011, 'dethrones': 860, 'drake': 920, 'billboard': 421, 'hot': 1435, 'chart': 588, 'gaga': 1225, '02': 3, '42': 113, 'iphone': 1520, 'max': 1850, 'pro': 2275, 'recovery': 2376, 'ill': 1468, 'indians': 1490, 'rotate': 2458, 'heads': 1369, 'ghostly': 1249, 'kill': 1603, 'sorry': 2681, 'stuff': 2764, 'hive': 1413, 'nov': 2045, 'okay': 2079, 'nepal': 2003, 'instead': 1504, 'chill': 618, 'level': 1685, 'cuteness': 786, 'fell': 1127, 'hahahaha': 1339, 'weirdest': 3136, 'forgot': 1180, 'searched': 2505, 'favorites': 1111, 'theres': 2875, 'understa': 3030, 'anding': 264, 'biggest': 417, '458m': 119, 'cameraman': 527, 'camaras': 524, 'dae': 795, 'seaws': 2508, 'qwsa': 2331, 'saw': 2484, 'hidden': 1399, 'msg': 1956, 'symbols': 2804, 'alan': 227, 'walker': 3100, 'cat': 558, 'music6': 1967, 'hahahahaha': 1340, 'tik': 2922, 'tok': 2946, 'save': 2483, 'niceeeeee': 2015, 'suck': 2776, '1950s': 38, 'collided': 669, 'type': 3010, 'wants': 3109, 'dropped': 933, 'isolation': 1527, 'blood': 435, 'hands': 1348, 'positive': 2245, 'ab': 166, 'guns': 1321, 'bar': 361, 'lesting': 1680, 'worrying': 3211, 'generation': 1239, 'gave': 1236, 'subscribe': 2770, 'faces': 1078, 'swore': 2802, 'rhianna': 2426, 'lmao': 1727, 'vapshey': 3060, 'malades': 1815, 'chinese': 622, 'indian': 1489, 'boom': 446, 'missing': 1912, 'period': 2182, 'af': 202, 'soap': 2653, 'sanitizer': 2478, 'germs': 1242, 'win': 3175, 'artistic': 297, 'jumping': 1575, 'kindergarten': 1610, 'childish': 615, 'mature': 1847, 'ruins': 2465, 'peace': 2166, 'primark': 2273, 'heals': 1370, 'memorise': 1873, 'intention': 1508, 'offense': 2069, 'farmer': 1101, 'lawyers': 1653, 'brushing': 496, 'barn': 364, 'picking': 2198, 'goat': 1268, 'poop': 2236, 'alone': 240, 'place': 2212, 'hell': 1386, 'generic': 1240, 'followers': 1170, 'buddy': 504, 'saiying': 2475, 'bruh': 493, 'corner': 732, 'bf': 410, 'inside': 1498, 'wtf': 3223, 'da': 790, 'although': 247, 'along': 241, 'remembered': 2400, 'clip': 649, 'personally': 2186, 'feature': 1116, 'original': 2108, 'the': 2871, 'routine': 2461, 'strength': 2755, 'provement': 2292, 'light': 1695, 'everything': 1046, 'pretty': 2270, 'thirrle': 2887, 'keeps': 1591, 'deffault': 833, '44': 115, 'psss': 2297, 'hablo': 1335, 'espa': 1027, 'ol': 2083, 'ke': 1588, 'esperaban': 1030, 'nu': 2049, 'soy': 2691, 'gringa': 1310, 'espanish': 1028, 'espering': 1031, 'smaller': 2639, 'bts': 498, 'took': 2952, 'ninjago': 2021, 'movie': 1952, 'minding': 1902, 'idk': 1461, 'dosent': 912, 'smacked': 2637, 'days': 818, 'ex': 1049, 'happens': 1353, 'due': 942, 'ran': 2338, 'interested': 1509, 'nothing': 2040, 'rd': 2348, 'alive': 231, 'iloveyou': 1471, 'valued': 3059, 'based': 366, 'turned': 2998, 'hiding': 1401, 'instruments': 1505, 'musicians': 1971, 'fused': 1219, 'pigtails': 2203, 'edected': 970, 'strong': 2757, 'vois': 3083, 'radar': 2333, 'woman': 3189, 'fall': 1087, 'flip': 1157, 'point': 2230, 'bit': 426, 'fascinating': 1103, 'change': 579, 'hrhjhffttikbhfsszgbkopjvgfff': 1441, 'ariana': 291, 'grande': 1296, 'sis': 2611, 'creepy': 766, 'begin': 392, 'meal': 1856, 'alltime': 237, 'mid': 1892, 'aritra': 292, 'mr': 1954, 'server': 2540, 'kids': 1602, 'understood': 3033, 'remindes': 2406, 'hole': 1418, 'extra': 1069, 'teritrial': 2856, 'tf': 2860, 'lele': 1672, 'pons': 2234, '48': 121, 'big': 416, '2011': 52, 'silence': 2592, 'sounded': 2687, 'shape': 2551, 'asking': 305, 'unlimited': 3038, 'rocking': 2447, '7000k': 149, 'dollars': 906, 'expensive': 1060, 'daddies': 794, 'lowkey': 1765, 'triggered': 2980, 'swear': 2795, 'hmm': 1414, 'eat': 967, 'fast': 1105, 'food': 1172, 'pls': 2223, '2568': 79, 'car': 541, 'dream': 922, 'picturing': 2200, 'jake': 1542, 'gyllenhaal': 1330, 'star': 2723, 'set': 2543, 'playback': 2216, 'speed': 2699, 'realize': 2361, 'insane': 1496, 'hipsters': 1409, 'sluts': 2634, 'partying': 2148, 'kerala': 1593, 'bruhhh': 495, 'dumpsta': 946, 'dumstaaa': 948, 'pills': 2205, 'gmfu': 1266, 'talm': 2824, 'bout': 457, 'sum': 2780, 'belive': 397, 'passed': 2149, 'concept': 694, 'disappoints': 886, 'checked': 604, 'tablet': 2811, 'sending': 2530, 'info': 1493, '51': 131, 'understands': 3032, '07': 7, 'lv': 1780, 'wierd': 3168, 'inner': 1495, 'mattered': 1845, 'grown': 1313, 'furiously': 1216, 'bathroom': 369, 'drugs': 937, 'happening': 1352, 'forget': 1179, 'brilliant': 479, 'director': 881, 'bidabang': 414, 'recommend': 2372, 'ime': 1476, 'fika': 1138, 'health': 1371, 'wealth': 3126, 'bardabang': 362, 'yaaaaaas': 3238, 'guessing': 1319, 'hitting': 1412, 'somehow': 2662, 'ended': 999, 'ctto': 774, 'johnny': 1561, 'depp': 845, 'tim': 2928, 'burton': 508, 'justifying': 1581, 'empty': 995, 'wallet': 3104, 'ranked': 2341, '2010s': 51, 'streamed': 2754, 'model': 1920, 'tropical': 2984, 'missed': 1911, '05': 6, 'coollove': 721, 'population': 2241, 'september': 2535, 'wan': 3105, 'haha': 1337, 'buy': 514, 'btc': 497, 'billion': 423, 'congrats': 703, 'express': 1066, 'retail': 2421, 'xm': 3233, 'plays': 2220, 'adds': 193, 'whos': 3161, 'takes': 2815, 'hits': 1411, 'gained': 1226, '419m': 112, 'overplayed': 2123, 'listning': 1716, 'eid': 978, 'problems': 2278, 'mumble': 1962, 'rap': 2342, 'january': 1547, '18th': 31, 'shivazalaki': 2562, 'brings': 482, 'memory': 1874, 'lane': 1638, '00': 0, 'pelvic': 2169, 'thrust': 2911, 'drives': 930, 'hack': 1336, 'expecting': 1059, 'seizure': 2520, 'constipated': 706, 'exactly': 1051, '49': 122, 'parent': 2139, 'leave': 1663, 'sexual': 2545, 'copyrighted': 731, 'manners': 1823, 'sneaky': 2652, 'heck': 1380, 'judge': 1570, 'micheal': 1891, 'jackson': 1539, 'logged': 1734, 'account': 176, 'welcome': 3138, 'stage': 2719, 'cheese': 606, 'paying': 2164, 'discussing': 891, 'studies': 2761, 'step': 2740, 'keyword': 1595, '123moviestoday': 16, 'ft': 1206, 'asleep': 306, 'wake': 3098, 'knowing': 1617, 'planet': 2214, 'fucked': 1207, 'wrong': 3220, 'believe': 396, 'disproved': 897, 'fairies': 1085, 'myths': 1983, 'dragons': 918, 'exists': 1057, 'dreams': 924, 'nightmares': 2018, 'producer': 2281, 'hum': 1445, 'smiling': 2646, 'kidding': 1601, 'wanted': 3107, 'lmaoo': 1728, '3025': 98, 'mexico': 1887, 'city': 638, 'sooo': 2677, 'thatn': 2868, 'agree': 208, 'sias': 2583, 'scary': 2491, 'strange': 2750, 'machine': 1791, 'cursive': 781, 'ik': 1467, 'comedian': 677, 'felt': 1129, 'gowld': 1291, 'dancefloor': 804, 'hates': 1362, 'chose': 633, 'dialect': 863, 'australian': 324, 'source': 2689, 'arusha': 299, 'tanzania': 2829, 'huge': 1444, 'cuz': 788, 'wering': 3143, 'bow': 458, 'couse': 744, 'bangs': 360, 'woah': 3187, 'ya': 3237, 'help': 1388, '30': 96, 'least': 1661, 'conversation': 713, 'reply': 2414, '2o2o': 93, 'chimes': 620, 'ur': 3046, 'masks': 1833, 'main': 1808, 'grow': 1312, 'effortless': 976, 'realy': 2365, 'rare': 2344, 'nowwhere': 2048, 'tams': 2827, 'heap': 1373, 'doug': 916, 'demuro': 841, 'hosting': 1434, 'correctly': 736, 'workout': 3206, 'waiting': 3096, 'truly': 2987, 'noopy': 2032, 'tree': 2973, 'ccantion': 563, 'outa': 2117, 'weg': 3134, 'notin': 2043, 'dantdm': 811, '2017': 58, 'regrating': 2385, 'rejecting': 2389, 'diggers': 875, 'relate': 2391, '2k': 89, 'desparcito': 858, 'bangladesh': 359, 'mw': 1978, 'lovw': 1762, 'waaa': 3089, 'wachting': 3092, 'fans': 1097, '1950': 37, 'cut': 784, 'host': 1433, 'learn': 1657, 'moves': 1951, 'finished': 1146, 'graduation': 1293, 'starbucks': 2724, '2022': 65, '2023': 66, '2024': 67, 'remind': 2403, 'choice': 625, 'november': 2046, 'louad': 1751, 'walks': 3102, 'nd': 1994, 'shut': 2577, 'happend': 1350, 'scrolling': 2500, 'bong': 443, 'yeah': 3247, 'freeing': 1196, 'souls': 2685, 'telling': 2849, 'younger': 3262, 'child': 613, 'ohh': 2075, 'maddieeee': 1795, 'choreographers': 630, 'produced': 2280, 'folks': 1169, 'parts': 2146, 'refreshing': 2380, 'bruhh': 494, 'yall': 3240, 'bopped': 448, 'scream': 2498, 'blue': 439, 'ark': 293, 'gta': 1314, 'quoritin': 2327, 'logic': 1735, 'nonsense': 2029, 'announcer': 270, 'vid': 3071, 'wholesome': 3159, '2014': 55, 'squealing': 2716, 'yessssss': 3254, 'budabangbang': 502, 'thypes': 2918, 'britain': 483, 'bust': 510, 'jojo': 1563, 'represents': 2417, 'osthir': 2114, 'discovered': 889, 'hours': 1436, 'throw': 2908, 'els': 987, 'mistake': 1913, 'spelt': 2703, 'kilt': 1607, 'unstoppable': 3042, 'cheacka': 593, 'hoping': 1427, 'jersey': 1554, 'getting': 1245, 'banged': 357, 'alley': 234, 'selena': 2523, 'gomez': 1277, 'supposed': 2789, 'math': 1842, 'revision': 2423, '2k19': 90, 'enough': 1013, 'opened': 2099, '3020': 97, 'ha': 1333, 'slang': 2625, 'sooooo': 2679, 'xox': 3234, 'brillant': 478, 'senorier': 2531, 'belle': 398, 'hehe': 1383, 'legit': 1671, 'creatives': 763, 'teen': 2843, 'theme': 2872, 'lolllll': 1737, 'wynk': 3230, 'pronouncing': 2286, 'cares': 548, 'delegation': 836, 'pick': 2197, 'sri': 2717, 'lanka': 1643, 'any1': 275, 'children': 616, 'citizen': 637, 'khan': 1596, 'vs': 3088, 'kane': 1586, 'whose': 3162, 'depressing': 847, 'thoughts': 2895, 'amid': 255, 'miyosink': 1916, 'sosososo': 2683, 'mentalist': 1879, 'season': 2507, 'nohwhe': 2027, 'th': 2861, 'anks': 268, 'fury': 1218, '2livesoundsmix': 91, 'sibilings': 2584, 'accidently': 175, 'crack': 751, 'morining': 1940, 'orange': 2103, 'juice': 1572, 'oldest': 2086, 'boyfriend': 460, 'realmente': 2364, 'viewer': 3077, 'sang': 2477, 'july': 1573, 'madrid': 1801, 'interpretative': 1511, 'awsum': 334, 'predicted': 2260, 'kalla': 1584, 'sohna': 2658, 'nai': 1987, 'asim': 302, 'riaz': 2428, 'himanshi': 1404, 'khurana': 1598, 'dj': 901, 'snake': 2649, 'john': 1560, 'cena': 565, 'posted': 2249, 'image': 1473, 'compelled': 687, 'feat': 1115, 'ore': 2105, 'listend': 1709, 'number': 2053, 'rhythm': 2427, 'melody': 1870, 'beats': 381, 'corruption': 737, 'coolest': 719, 'stiff': 2743, 'tried': 2978, '5p': 141, '19my': 42, 'ltop': 1775, 'record': 2375, 'enjoys': 1012, 'smiles': 2644, 'adele': 195, 'wronged': 3221, 'awards': 328, 'grammys': 1295, 'interests': 1510, 'biggist': 418, 'prove': 2291, 'adeleeeeeeee': 196, 'untill': 3043, 'grammy': 1294, 'turrn': 3000, 'personification': 2187, '13k': 21, 'candy': 533, 'apples': 285, 'accounts': 177, 'leonardo': 1676, 'wons': 3194, 'oscar': 2112, 'tp': 2961, 'taco': 2812, 'rain': 2336, 'thinking': 2883, 'wich': 3165, 'depression': 848, 'ans': 273, 'resolution': 2418, 'endless': 1001, 'laughter': 1652, 'hypnotizing': 1451, 'mostly': 1942, 'emotion': 993, 'kitty': 1614, 'blessing': 433, 'curse': 780, 'dua': 939, 'lipa': 1705, 'ed': 969, 'sheeran': 2557, 'shawn': 2555, 'mendes': 1877, 'whoever': 3157, 'incomplete': 1485, 'floris': 1161, 'bosveld': 453, 'idc': 1456, 'oyeee': 2128, 'irish': 1522, 'revethi': 2422, 'user': 3054, 'jokes': 1566, 'course': 743, 'flo': 1159, 'rida': 2431, 'eng': 1006, 'teeth': 2846, 'copying': 730, 'pronunciation': 2287, 'doubt': 915, 'outfits': 2119, 'scene': 2492, 'chicks': 612, 'ealsne': 955, 'quarinteen': 2318, 'anybody': 276, 'okk': 2082, 'daimond': 797, 'yourrrrr': 3264, 'muuuuusssiiicccccccccc': 1976, 'amy': 262, 'farah': 1100, 'fowler': 1190, 'sheldon': 2558, 'cooper': 725, 'hokum': 1416, 'nycha': 2059, 'anyway': 281, 'inspite': 1501, 'horrible': 1429, 'living': 1723, 'conditions': 698, 'mold': 1923, 'pitbull': 2208, 'february': 1118, 'orion': 2111, 'promotion': 2284, 'magic': 1803, 'career': 547, 'unknown': 3037, 'freakin': 1192, 'impressed': 1482, 'annoying': 271, 'iconic': 1455, 'marathon': 1826, 'seems': 2518, 'tiktokers': 2924, 'draw': 921, 'inspo': 1502, 'siaaaaaaaaaa': 2582, 'yr': 3267, 'mabey': 1789, 'yer': 3252, 'moneyyy': 1932, 'beaaat': 374, 'stops': 2747, 'lit': 1717, 'rkey': 2441, 'cartoon': 553, 'tv': 3002, 'soda': 2656, 'popcorn': 2239, 'volume': 3084, 'midnight': 1894, 'snacks': 2648, 'cartoons': 554, 'po': 2226, 'opcorn': 2097, 'tom': 2948, 'jerry': 1553, 'oda': 2064, 'bean': 376, 'simpsons': 2595, 'thomas': 2892, 'rest': 2420, 'repeated': 2411, 'given': 1258, 'disliking': 896, 'scares': 2490, 'dimonds': 879, 'super': 2785, 'bob': 440, 'ihis': 1464, 'looked': 1741, 'across': 182, 'siya': 2619, 'rapping': 2343, 'bed': 389, 'early': 959, 'hopefully': 1426, 'thes': 2876, 'tt': 2993, 'told': 2947, 'lots': 1750, 'match': 1841, 'actual': 183, 'lyrical': 1784, 'trumps': 2988, 'terms': 2858, 'lo': 1729, 'lovin': 1760, 'loooving': 1744, 'cooooooooool': 724, 'app': 282, 'pays': 2165, 'walk': 3099, 'www1': 3229, 'sweatco': 2796, 'leo526828': 1675, '260k': 82, 'funeral': 1212, 'coming': 681, 'fashioned': 1104, 'booooooooooms': 447, 'basically': 367, 'legendary': 1669, 'krishna': 1624, 'bhajan': 413, 'open': 2098, 'hahaha': 1338, 'feelin': 1122, 'wat': 3117, 'rorschach': 2455, 'fridays': 1201, 'saturdays': 2482, 'simply': 2594, 'doppitudafloa': 910, 'memi': 1871, 'si': 2578, 'becau': 386, 'nevermind': 2008, 'feels': 1125, 'blowing': 437, 'dumbass': 944, 'hpe': 1440, 'luckiest': 1777, '21st': 75, 'century': 567, 'far': 1099, 'trademark': 2963, 'brbang': 466, 'deep': 829, 'within': 3184, 'everlasting': 1040, 'dirty': 882, '19th': 43, 'boy': 459, 'cooo': 722, 'yea': 3245, 'oki': 2081, 'thousands': 2897, 'girlfriends': 1254, 'drove': 935, 'truck': 2985, 'wall': 3103, 'shitty': 2561, 'cried': 768, 'etc': 1035, 'bright': 476, 'wooow': 3198, 'amizing': 257, 'coooooool': 723, 'gang': 1229, 'ferociously': 1131, 'carfull': 549, 'whith': 3155, 'covit': 749, 'viewed': 3076, 'talend': 2818, 'thrilla': 2903, '70s': 150, 'pulled': 2306, 'listenin': 1711, 'cheapthrills': 601, 'chile': 617, 'fantastic': 1098, 'mt': 1957, 'toppp': 2955, 'praying': 2259, 'form': 1182, 'birthday': 425, 'couples': 741, '2150': 74, 'eighth': 979, 'thid': 2877, 'musicccc': 1970, 'maty': 1848, 'mc': 1855, 'aish': 225, 'chanchalani': 574, 'phandom': 2192, 'plot': 2222, 'twist': 3007, 'suit': 2779, 'noone': 2031, 'captain': 537, 'civil': 639, 'war': 3110, 'musical': 1968, 'northeast': 2037, 'italy': 1530, 'isolated': 1526, 'youtu': 3265, '4forcszu8hs': 123, 'caribbean': 550, 'weard': 3128, 'combination': 675, '04': 5, 'winona': 3180, 'ryder': 2471, 'alternative': 246, 'ts': 2992, 'gril': 1308, 'moneyas': 1930, 'fuente': 1208, 'lyricfind': 1785, 'compositores': 692, 'greg': 1307, 'kurstin': 1628, 'furler': 1217, 'letra': 1683, 'sony': 2674, 'atv': 318, 'publishing': 2303, 'llc': 1725, 'pixar': 2211, 'beginning': 393, 'reaalllyyy': 2350, 'centipede': 566, 'admiration': 197, 'contestants': 710, 'bighit': 419, 'essa': 1032, 'sica': 2586, 'uma': 3020, 'rola': 2451, 'fada': 1082, 'voz': 3087, 'divina': 899, 'dign': 876, 'ssima': 2718, 'afford': 204, 'dislike': 893, 'announced': 269, 'freaking': 1193, 'excited': 1055, 'dolar': 904, 'lls': 1726, 'everynight': 1044, 'ancient': 263, 'mating': 1843, 'rituals': 2440, 'wuth': 3226, 'diamon': 864, 'gol': 1274, 'reminded': 2404, '60': 145, 'richard': 2430, 'chuck': 635, 'berry': 400, 'trenton': 2976, 'depew': 844, 'ermos': 1022, 'felisito': 1126, 'tanleto': 2828, 'send': 2529, 'greetings': 1306, 'colombia': 670, 'dizzy': 900, 'fluently': 1163, 'fave': 1109, 'ultimate': 3018, 'spotify': 2712, 'nope': 2033, 'era': 1021, 'woohoo': 3197, 'replay': 2413, 'xenon': 3232, 'krypton': 1625, 'argon': 290, 'co2': 658, 'oxygen': 2126, '78': 153, 'nitrogen': 2023, 'breathing': 473, 'subtitle': 2773, 'coolll': 720, '45': 117, '20s': 70, 'sec': 2509, 'oop': 2096, 'sksksksksk': 2623, 'book': 444, 'thumbnail': 2912, 'ignored': 1463, 'soon': 2676, 'became': 385, 'obsessed': 2060, 'lovee': 1755, 'ziegleir': 3272, 'siaa': 2580, 'kicks': 1599, 'sleep': 2628, 'makeup': 1813, 'ii': 1465, 'grease': 1302, 'childhood': 614, 'asome': 307, 'ummmmmmmmmmmm': 3023, 'gud': 1316, 'legends': 1670, 'paints': 2133, 'glued': 1265, 'timtams': 2933, 'bb': 371, 'poor': 2237, 'captive': 540, 'petition': 2191, 'deo': 843, 'waffle': 3093, 'exercising': 1056, 'grade': 1292, 'premiers': 2265, 'helpful': 1390, 'showing': 2574, 'tomika': 2949, '455': 118, 'emotions': 994, 'amo': 258, 'las': 1645, 'emociones': 992, 'ba': 336, 'ratas': 2345, 'que': 2320, 'singlet': 2607, 'iz': 1538, 'grate': 1300, 'mum': 1961, '903': 159, 'dumbfounded': 945, 'gotten': 1289, '153': 26, 'story': 2748, 'accents': 174, '60s': 146, 'stared': 2725, 'queen': 2321, 'reasons': 2368, 'lia': 1687, 'pinnacle': 2207, 'brr': 492, 'giving': 1260, 'gift': 1250, 'dropping': 934, 'proud': 2290, 'rather': 2346, 'maybe': 1853, 'iti': 1533, 'backsound': 345, 'pes': 2190, 'dumb': 943, 'usually': 3056, 'realised': 2359, 'daughter': 815, 'smiley': 2645, 'herd': 1393, 'roller': 2452, 'skating': 2620, 'odeanton': 2065, 'te': 2833, 'cancion': 531, 'das': 813, 'ist': 1529, 'einer': 981, 'mein': 1866, 'lieblings': 1691, 'lied': 1692, 'breathless': 474, '500': 129, 'languages': 1641, 'style': 2766, 'melanie': 1869, 'martinez': 1828, 'imaginary': 1474, 'badly': 349, 'nobady': 2024, 'toilet': 2945, 'chills': 619, 'calm': 522, 'idek': 1458, 'clam': 640, 'continue': 711, 'twenty': 3004, 'rude': 2463, 'dother': 913, 'eiza': 983, 'airabic': 222, 'ohhh': 2076, 'sundown': 2783, '1b': 44, 'bully': 506, 'choosing': 627, 'assistant': 310, 'changing': 581, 'enthusiastic': 1015, 'lastly': 1647, 'highlighting': 1403, 'agreeing': 210, 'respect': 2419, 'lem': 1673, 'ears': 962, 'concepts': 695, 'zombie': 3277, 'ment': 1878, 'traducir': 2964, 'al': 226, 'camera': 526, 'cuts': 787, 'angles': 265, 'creates': 760, 'lurice': 1778, 'noce': 2026, 'ahhhhhh': 215, 'haunt': 1364, '2029': 68, 'dente': 842, 'sleeping': 2629, 'tiles': 2926, 'hop': 1424, 'self': 2524, 'advertisement': 201, 'peak': 2167, 'brighter': 477, 'pray': 2258, '4rth': 125, 'baaaadddd': 337, 'bgm': 412, 'whit': 3152, 'mady': 1802, 'posessing': 2244, 'spirit': 2705, 'contain': 708, 'powers': 2255, 'using': 3055, 'url': 3048, 'thrilled': 2904, 'sasti': 2479, 'masti': 1839, 'simultaneously': 2596, 'faar': 1074, 'worry': 3210, 'finish': 1145, 'intro': 1514, 'hatching': 1358, 'police': 2231, 'success': 2775, 'cringe': 770, 'yeas': 3250, 'whan': 3144, 'oyeash': 2127, 'seem': 2517, 'attacks': 316, 'fed': 1119, 'snaptube': 2650, 'bitmoji': 427, 'dimond': 878, 'relax': 2393, 'tysm': 3012, 'jealous': 1551, 'explode': 1064, 'austin': 322, 'ally': 238, 'liars': 1688, 'cooperation': 726, '150k': 25, 'congratulations': 704, 'closes': 653, 'close': 651, 'becouse': 388, 'terrifying': 2859, 'disgusting': 892, 'ahhhhhhhhh': 216, 'ma': 1788, 'alien': 229, 'run': 2467, 'celebrated': 564, 'brday': 467, 'sharmatechandfacts': 2554, 'irony': 1523, 'bill': 420, '9999': 165, 'fallout': 1088, 'vaults': 3061, 'exposed': 1065, 'pig': 2202, 'tails': 2813, 'neighbors': 2000, 'raid': 2335, 'desiigner': 855, 'mobile': 1918, 'ringtone': 2439, '2ol9': 94, 'beatiful': 379, 'culture': 776, 'clash': 641, 'goodness': 1283, 'wove': 3214, 'teep': 2845, 'fwills': 1224, 'skip': 2622, '1940s': 35, 'musi': 1965, 'stripper': 2756, '18k': 30, 'madie': 1799, 'whitch': 3153, 'fireeeee': 1149, 'pres': 2267, 'surprise': 2791, 'transmits': 2968, 'intense': 1507, 'blows': 438, 'haters': 1361, 'names': 1991, 'spoke': 2710, 'ms': 1955, 'invented': 1517, 'breakdancing': 469, 'sisters': 2613, 'able': 168, 'shot': 2568, 'peoples': 2171, 'opinions': 2101, 'motivate': 1946, 'freedom': 1195, 'joy': 1568, 'feelings': 1124, 'hesitate': 1395, 'either': 982, 'sundays': 2782, 'thise': 2888, 'portuguese': 2243, 'throwbackkk': 2909, 'babyyyy': 342, 'born': 452, 'room': 2454, 'decided': 827, '29th': 88, 'unstobapple': 3041, 'forced': 1176, 'siblings': 2585, '2020music': 63, 'comeeeeee': 678, 'problem': 2277, 'solve': 2659, 'bababa': 338, 'lalala': 1637, 'waahaa': 3090, 'correct': 735, 'kept': 1592, 'ummm': 3022, 'waswondering': 3116, 'gorgeous': 1286, 'babe': 339, 'creeped': 765, 'thanku': 2866, 'chicken': 611, 'allowed': 235, 'destroy': 859, 'helps': 1392, 'bring': 480, 'standind': 2720, 'songbird': 2670, 'seranade': 2536, 'defeat': 830, 'gas': 1232, 'mallard': 1818, 'pauses': 2162, 'standing': 2721, 'nothin': 2039, 'iss': 1528, 'siaaa': 2581, 'hahhaha': 1341, 'rofl': 2450, 'translated': 2965, '3am': 107, 'onnn': 2093, 'desparate': 857, 'ahhhhhhhhhhhhhhhhh': 217, 'synchronised': 2807, 'switched': 2801, 'fortnite': 1184, 'magical': 1804, 'sympathetic': 2805, 'neck': 1997, 'pain': 2131, 'hurt': 1449, 'late': 1648, 'teens': 2844, 'banging': 358, 'enthusiastically': 1016, 'massagers': 1835, 'liquid': 1706, 'heet': 1382, 'brand': 464, 'spelling': 2702, 'error': 1023, 'driving': 931, 'brain': 463, 'obviously': 2062, 'notice': 2041, '4s': 126, 'thru': 2910, 'gloves': 1263, 'opposite': 2102, 'signature': 2590, 'slack': 2624, 'wicked': 3166, 'cold': 663, 'drown': 936, 'drainage': 919, 'choke': 626, 'enuf': 1017, 'zillion': 3275, 'throat': 2907, 'percent': 2174, 'mill': 1897, 'pog': 2229, 'attention': 317, 'nepanglish': 2004, 'theory': 2873, 'elastic': 985, 'explanations': 1063, '40s': 111, 'charge': 585, '29': 87, 'itunes': 1534, 'hypocrite': 1452, 'iyes': 1537, 'demon': 839, 'lazy': 1655, 'town': 2960, 'villain': 3079, 'strangest': 2753, 'space': 2692, 'xx': 3235, 'lie': 1690, 'oder': 2066, 'tncedence': 2940, 'dubai': 940, 'cup': 777, 'daily': 796, 'earthquake': 964, 'sir': 2610, 'hcl': 1365, 'tech': 2841, 'short': 2567, 'selling': 2526, 'pollama': 2232, 'desi': 854, 'profile': 2282, 'maddy': 1797, 'compliment': 690, 'mentions': 1881, 'slipped': 2631, 'rihana': 2435, 'flower': 1162, 'patti': 2157, 'labelle': 1633, 'east': 965, 'coast': 661, 'south': 2690, 'soooo': 2678, 'cheat': 602, 'drills': 926, 'ia': 1453, 'temporary': 2852, 'permanent': 2183, 'headphone': 1368, 'gdbang': 1238, 'decade': 824, 'thissong': 2889, 'speech': 2698, 'therapy': 2874, 'ilove': 1470, 'ahahhahh': 213, '36': 104, 'styx': 2767, 'roboto': 2445, 'elvis': 989, 'presley': 2268, 'jailhouse': 1541, 'travolta': 2972, 'fever': 1132, '59': 140, 'michael': 1890, 'moon': 1938, '01': 2, 'james': 1546, 'brown': 491, 'splits': 2708, 'smooth': 2647, 'criminal': 769, 'beyonce': 408, '39': 106, 'flirt': 1158, 'situation': 2616, 'dffangvklkdlgvsdgt': 861, 'studing': 2762, 'mackenzie': 1792, 'offical': 2070, 'ruin': 2464, 'rewatching': 2424, 'taking': 2816, 'gosh': 1287, 'urself': 3049, 'shaking': 2548, 'leg': 1667, '1945': 36, 'written': 3218, 'pronounces': 2285, 'rose': 2456, '1sia': 46, '44k': 116, 'amazingi': 251, '262k': 83, 'earagree': 957, 'staysafe': 2738, 'stayhome': 2737, 'chorus': 632, 'exaggerated': 1052, 'gangnam': 1230, 'addictive': 189, 'bffs': 411, 'insert': 1497, 'lip': 1704, 'sync': 2806, 'fooled': 1173, 'robbers': 2443, 'wen': 3141, 'amrican': 260, 'justice': 1580, 'oreo': 2106, 'quarentain': 2316, '37': 105, 'gravity': 1301, 'chat': 590, 'sense': 2532, 'vegas': 3064, 'received': 2369, 'mall': 1817, 'lazytown': 1656, 'hinting': 1407, 'anime': 267, 'isnt': 1525, 'blackface': 429, '318': 100, 'musics': 1972, 'england': 1007, 'survived': 2794, 'ralaship': 2337, 'hint': 1406, 'forwood': 1186, 'sex': 2544, 'semi': 2528, '2005': 50, 'expression': 1067, 'discontent': 887, 'singlish': 2608, 'singapore': 2599, 'try': 2990, 'mv': 1977, 'psychopath': 2298, 'goouooollllld': 1285, 'global': 1262, 'confusing': 702, 'arabic': 288, 'offended': 2068, 'regards': 2384, 'per': 2173, 'bops': 449, 'em': 990, '25x': 80, 'monica': 1933, 'ross': 2457, 'eve': 1037, 'hoshmand': 1431, 'rihhana': 2437, 'whiye': 3156, 'degree': 835, 'wife': 3170, 'blasting': 431, 'honda': 1422, 'pilot': 2206, 'drive': 928, 'odyssey': 2067, 'btw': 499, 'wash': 3114, 'okey': 2080, 'golden': 1276, 'calls': 521, 'speezyyy': 2701, 'sucks': 2777, 'reckon': 2371, 'sweater': 2797, 'makenzie': 1810, 'zigler': 3274, 'dressed': 925, '46': 120, 'weekends': 3132, 'kinds': 1611, 'bahng': 350, 'netflix': 2005, 'mesi': 1883, 'un': 3024, 'prezzo': 2271, 'bassissimo': 368, '4k': 124, 'uhd': 3015, 'schermi': 2493, 'contemporaneamente': 709, 'http': 1442, 'rover': 2462, 'ebay': 968, '724': 151, '53478': 134, '19255': 34, 'icep': 1454, 'ff3': 1133, 'pub': 2299, '5575378759': 136, 'campid': 528, '5338273189': 133, 'customid': 783, 'item': 1531, '402261246147': 110, 'ipn': 1521, 'psmain': 2296, 'vectorid': 3063, '229494': 77, 'kwid': 1630, '902099': 158, 'mtid': 1958, '824': 155, 'kw': 1629, 'lg': 1686, 'toolid': 2953, '11111': 14, 'lockdowndayzz': 1733, 'astounding': 313, 'bestie': 404, 'carona': 551, 'dace': 792, 'forgotten': 1181, 'shakira': 2549, 'mfs': 1888, 'khow': 1597, 'on2021': 2088, 'thies': 2878, 'madly': 1800, 'refuse': 2382, 'relaxing': 2394, 'hinglish': 1405, 'russian': 2470, 'singaporean': 2600, 'social': 2654, 'network': 2006, 'sond': 2668, 'drunk': 938, 'wierdness': 3169, 'amores': 259, 'related': 2392, 'son': 2667, 'afraid': 205, 'slipping': 2632, 'dogs': 903, 'woof': 3196, 'cats': 560, 'meow': 1882, 'thursday': 2914, 'captivated': 539, 'schoolers': 2495, 'traumatizing': 2969, '2120': 73, 'maddies': 1796, 'wears': 3129, 'tight': 2920, 'clothes': 654, 'works': 3207, 'parties': 2145, 'direct': 880, 'seanpaul': 2503, 'absolute': 170, 'rides': 2432, 'hhhhhhhnshe': 1397, 'd9nt': 789, 'mony': 1936, 'hall': 1345, 'fame': 1091, 'piece': 2201, 'funk': 1213, 'electric': 986, 'disturbing': 898, 'families': 1092, 'facial': 1079, 'value': 3058, 'keeping': 1590, '53': 132, 'mastrubation': 1840, 'tells': 2850, 'whether': 3150, 'chiptrills': 624, 'measured': 1861, 'grandpa': 1298, 'thai': 2863, '8n': 156, 'gather': 1233, 'flag': 1153, 'defend': 832, 'leatter': 1662, 'band': 355, 'mass': 1834, 'pacca': 2129, 'winners': 3178, 'uncountable': 3029, 'massdance': 1836, 'danca': 801, 'describing': 850, 'humble': 1448, 'stands': 2722, 'dark': 812, 'remains': 2396, 'enriches': 1014, 'allows': 236, 'perfection': 2176, 'beg': 391, 'hand': 1347, 'gods': 1271, 'cobra': 662, 'bubbles': 500, 'bananas': 354, 'strangers': 2752, 'burden': 507, 'stars': 2728, 'compose': 691, 'barely': 363, 'interpreter': 1512, 'deaf': 821, 'mutes': 1975, 'loads': 1730, 'wts': 3225, 'thanq': 2867, 'studying': 2763, 'surprised': 2792, 'referenced': 2378, 'pregnant': 2264, 'ass': 309, 'idol': 1462, 'tengo': 2854, 'dos': 911, 'gatos': 1234, 'jav': 1550, 'tu': 2994, 'cas': 555, 'cry': 772, 'represented': 2416, 'breakthrough': 471, 'figures': 1137, 'norm': 2034, 'reactions': 2353, 'shock': 2563, 'possible': 2248, 'initial': 1494, 'rejection': 2390, 'discouraging': 888, 'extreme': 1071, 'courage': 742, 'embodies': 991, 'abnormal': 169, 'society': 2655, 'creators': 764, 'inventors': 1518, 'frightened': 1204, 'stopped': 2746, 'selves': 2527, 'moneyy': 1931, 'cancuollll': 532, 'feb': 1117, 'chand': 575, 'raat': 2332, 'goes': 1272, 'commentary': 683, '1967': 40, 'create': 758, 'soo': 2675, 'filmed': 1140, 'yar': 3241, 'thyan': 2917, 'guald': 1315, 'accent': 172, 'duper': 951, 'shine': 2559, 'you': 3260, '666': 147, 'demonic': 840, 'possession': 2247, 'connection': 705, 'jenually': 1552, 'break': 468, 'lily': 1700, 'allen': 233, 'fair': 1084, 'ostrich': 2115, 'coals': 660, 'incredibly': 1487, 'este': 1034, 'tema': 2851, 'hermoso': 1394, 'ye': 3244, 'bas': 365, 'kud': 1627, 'rhi': 2425, 'par': 2138, 'acha': 179, 'misheard': 1909, 'plz': 2225, 'lord': 1745, 'allah': 232, 'state': 2733, 'warriors': 3113, 'hoax': 1415, 'largest': 1644, 'earphones': 961, 'aw': 327, 'uncomplete': 3028, 'kinda': 1609, '20th': 71, 'rule': 2466, 'heavily': 1379, 'accented': 173, 'following': 1171, 'impersonation': 1478, 'gun': 1320, 'firing': 1150, 'exact': 1050, 'eg': 977, 'whazz': 3148, 'hairdresser': 1343, 'recommendation': 2373, 'mentioning': 1880, 'description': 851, 'however': 1439, 'enjoyed': 1010, 'learnt': 1660, 'kolaveri': 1620, 'order': 2104, 'disappointed': 884, 'round': 2459, 'yuo': 3269, 'particular': 2144, 'appeared': 284, 'trivia': 2983, 'students': 2760, 'kpop': 1623, 'korean': 1621, 'definitely': 834, 'hated': 1360, 'speaker': 2695, 'full': 1209, 'beyond': 409, 'blast': 430, 'br': 462, 'fvck': 1222, 'delete': 837, 'double': 914, '1grammy': 45, 'yesterday': 3255, 'reality': 2360, '144p': 22, 'truth': 2989, 'caught': 561, 'colors': 672, 'beautifully': 383, 'defects': 831, 'greatttttt': 1305, 'shakespeare': 2547, 'reopen': 2409, 'woow': 3200, 'behind': 394, 'umm': 3021, 'normally': 2036, 'stick': 2742, 'sighs': 2589, 'trending': 2975, 'ends': 1002, 'practising': 2257, 'phew': 2193, 'felling': 1128, 'worker': 3204, 'bought': 455, 'chess': 609, 'tx': 3009, 'wht': 3163, 'ch': 569, 'che': 591, 'chea': 592, 'cheapt': 595, 'cheapth': 596, 'cheapthr': 597, 'cheapthri': 598, 'cheapthril': 599, 'cheapthrill': 600, 'lr': 1766, 'lry': 1767, 'lryc': 1768, 'lrycs': 1769, 'lrycsv': 1770, 'lrycsvi': 1771, 'lrycsvid': 1772, 'lrycsvide': 1773, 'lrycsvideo': 1774, 'press': 2269, 'justinbieber': 1582, 'cardi': 544, 'muore': 1963, 'dymond': 954, 'guold': 1322, 'jstt': 1569, 'quorteen': 2328, 'national': 1993, 'coz': 750, 'esp': 1026, 'nights': 2019, 'failed': 1083, 'download': 917, 'mazing': 1854, 'tough': 2959, 'granny': 1299, 'helped': 1389, 'battle': 370, 'convinced': 714, 'peppy': 2172, 'track': 2962, 'six': 2617, 'suggestions': 2778, 'except': 1054, 'cooking': 716, 'moive': 1922, 'class': 642, 'ymca': 3257, 'uploaded': 3045, 'collaborated': 665, 'coloured': 673, 'literal': 1718, 'starmaker': 2727, 'motions': 1945, 'cracked': 752, 'cralwed': 754, 'phone': 2194, 'side': 2588, '911': 161, 'rushed': 2469, 'hospital': 1432, 'eny': 1018, 'volumes': 3085, 'damage': 798, 'hold': 1417, 'beer': 390, 'og': 2073, '128517': 19, 'pity': 2210, '128077': 18, 'litterally': 1720, 'remembering': 2401, 'expect': 1058, 'loud': 1752, 'nina': 2020, 'mwor': 1981, 'gwoad': 1328, 'cov': 745, 'animal': 266, 'lovers': 1758, 'sheep': 2556, 'laying': 1654, 'dunsda': 949, 'closely': 652, 'falls': 1089, 'awfully': 331, 'death': 823, 'homework': 1421, '2015': 56, '90s': 160, 'tirlli': 2938, 'mans': 1824, 'kryta': 1626, 'wach': 3091, 'wondering': 3193, 'waka': 3097, 'marvin': 1830, 'gaye': 1237, 'charlie': 586, 'puth': 2309, 'listenit': 1713, 'buti': 512, 'tension': 2855, 'headache': 1367, 'disappointment': 885, 'haapy': 1334, 'ohkk': 2077, 'filled': 1139, 'wid': 3167, 'talks': 2823, 'anthem': 274, 'killer': 1605, 'flags': 1154, 'splish': 2707, 'splash': 2706, 'sesame': 2542, 'alright': 244, 'goodluck': 1282, 'ly': 1781, 'pich': 2196, 'perfects': 2178, 'iits': 1466, 'timetravel': 2932, 'parody': 2141, 'satire': 2480, 'quarantinedays': 2315, 'refreshes': 2379, 'confiscated': 700, 'reached': 2352, 'maximum': 1851, 'miracle': 1908, 'reach': 2351, 'inspired': 1499, 'bestfriend': 403, 'lys': 1787, 'riding': 2433, 'hoverboard': 1438, 'abby': 167, 'lee': 1665, 'miller': 1898, 'stayed': 2736, 'dedicated': 828, 'craft': 753, 'slightly': 2630, 'kyrgyzstan': 1631, 'tiktok': 2923, 'chinchillas': 621, 'simple': 2593, 'effective': 974, 'es': 1024, 'copie': 727, 'girly': 1256, 'uh': 3014, 'differential': 873, 'equations': 1020, 'tutorial': 3001, 'beach': 375, 'led': 1664, 'ong': 2091, 'addition': 192, 'lonely': 1738, 'potato': 2250, 'monday': 1928, 'raw': 2347, 'smack': 2636, 'clock': 650, 'important': 1479, 'preparing': 2266, 'maul': 1849, 'welp': 3140, 'tamizan': 2826, 'deshi': 853, 'megamind': 1864, 'amul': 261, 'patanjali': 2155, 'waste': 3115, 'spin': 2704, 'circles': 636, 'sporadically': 2711, 'yeaaas': 3246, 'producaar': 2279, 'low': 1763, 'cost': 738, 'bday': 373, 'steps': 2741, 'sentences': 2534, 'langage': 1639, 'nonstop': 2030, 'wolt': 3188, 'mwol': 1979, 'daymond': 817, 'gwold': 1329, 'challenging': 573, 'saykng': 2488, 'whining': 3151, 'noise': 2028, 'cookies': 715, 'charming': 587, 'tedious': 2842, 'affair': 203, 'endure': 1003, 'unbearable': 3026, 'bear': 377, 'fight': 1135, 'quotation': 2329, 'serviceable': 2541, 'substitute': 2772, 'wit': 3183, 'lesson': 1679, 'teaches': 2836, 'wishing': 3182, 'persons': 2188, 'frequently': 1198, 'admit': 198, 'survive': 2793, 'managers': 1821, 'samples': 2476, 'ontem': 2094, 'eu': 1036, 'passei': 2150, 'sua': 2768, 'porta': 2242, 'dimas': 877, 'paulo': 2160, 'teach': 2834, 'regret': 2386, 'gwan': 1327, 'associated': 311, 'powerful': 2254, 'singed': 2601, 'achieved': 180, 'coaching': 659, 'classes': 643, 'join': 1562, 'jonas': 1567, 'brothers': 489, 'online': 2092, 'books': 445, 'whoop': 3160, 'gandam': 1228, 'am': 249, 'um': 3019, 'fuss': 1220, 'songgg': 2672}\n"
          ],
          "name": "stdout"
        }
      ]
    },
    {
      "cell_type": "code",
      "metadata": {
        "trusted": true,
        "id": "fIi0Qao6fOT3",
        "colab_type": "code",
        "colab": {}
      },
      "source": [
        "vocab = vect.vocabulary_"
      ],
      "execution_count": 60,
      "outputs": []
    },
    {
      "cell_type": "code",
      "metadata": {
        "trusted": true,
        "id": "k_0nswJkfOT8",
        "colab_type": "code",
        "colab": {}
      },
      "source": [
        "# for key,value in vocab.items():\n",
        "#     if(value == 162):\n",
        "#         print(key)"
      ],
      "execution_count": 61,
      "outputs": []
    },
    {
      "cell_type": "markdown",
      "metadata": {
        "id": "2nuCDN4fzR_B",
        "colab_type": "text"
      },
      "source": [
        "import the logistic regression classifer and fit on the training dataset"
      ]
    },
    {
      "cell_type": "code",
      "metadata": {
        "trusted": true,
        "id": "GT0Tc8HKfOT_",
        "colab_type": "code",
        "colab": {
          "base_uri": "https://localhost:8080/",
          "height": 33
        },
        "outputId": "9b822053-9761-4e0e-80c8-c59b351cb625"
      },
      "source": [
        "from sklearn.linear_model import LogisticRegression\n",
        "lr = LogisticRegression()\n",
        "lr.fit(tf_train,y_train)"
      ],
      "execution_count": 62,
      "outputs": [
        {
          "output_type": "execute_result",
          "data": {
            "text/plain": [
              "LogisticRegression()"
            ]
          },
          "metadata": {
            "tags": []
          },
          "execution_count": 62
        }
      ]
    },
    {
      "cell_type": "markdown",
      "metadata": {
        "id": "UBP_uI2Vzc3i",
        "colab_type": "text"
      },
      "source": [
        "###  Accuracy score on training dataset"
      ]
    },
    {
      "cell_type": "code",
      "metadata": {
        "trusted": true,
        "id": "1P_lH-8LfOUA",
        "colab_type": "code",
        "colab": {
          "base_uri": "https://localhost:8080/",
          "height": 33
        },
        "outputId": "2b57a1dd-0da3-41a4-e91f-e1322f8a647d"
      },
      "source": [
        "lr.score(tf_train,y_train)"
      ],
      "execution_count": 63,
      "outputs": [
        {
          "output_type": "execute_result",
          "data": {
            "text/plain": [
              "0.9790348101265823"
            ]
          },
          "metadata": {
            "tags": []
          },
          "execution_count": 63
        }
      ]
    },
    {
      "cell_type": "markdown",
      "metadata": {
        "id": "IDjjvJrjziJ8",
        "colab_type": "text"
      },
      "source": [
        "### Accuracy score on test dataset i.e got from the splitting"
      ]
    },
    {
      "cell_type": "code",
      "metadata": {
        "trusted": true,
        "id": "6WrwiXH9fOUD",
        "colab_type": "code",
        "colab": {
          "base_uri": "https://localhost:8080/",
          "height": 33
        },
        "outputId": "d685ae2c-6467-482a-9aca-c463b562a902"
      },
      "source": [
        "lr.score(tf_test,y_test)"
      ],
      "execution_count": 64,
      "outputs": [
        {
          "output_type": "execute_result",
          "data": {
            "text/plain": [
              "0.9225908372827805"
            ]
          },
          "metadata": {
            "tags": []
          },
          "execution_count": 64
        }
      ]
    },
    {
      "cell_type": "markdown",
      "metadata": {
        "id": "6q2Lbal6zpxR",
        "colab_type": "text"
      },
      "source": [
        "### Make predictions on the test dataset i.e. unseen data to the model"
      ]
    },
    {
      "cell_type": "code",
      "metadata": {
        "trusted": true,
        "id": "ebpYgyVZfOUF",
        "colab_type": "code",
        "colab": {}
      },
      "source": [
        "expected = y_test\n",
        "predicted = lr.predict(tf_test)"
      ],
      "execution_count": 65,
      "outputs": []
    },
    {
      "cell_type": "markdown",
      "metadata": {
        "id": "tvq5GSaCzzXE",
        "colab_type": "text"
      },
      "source": [
        "### plot confusion matrix for the test dataset"
      ]
    },
    {
      "cell_type": "code",
      "metadata": {
        "id": "TKH8iPvS1mGJ",
        "colab_type": "code",
        "colab": {}
      },
      "source": [
        "\n",
        "from mlxtend.plotting import plot_confusion_matrix\n",
        "import matplotlib.pyplot as plt\n",
        "import numpy as np"
      ],
      "execution_count": 70,
      "outputs": []
    },
    {
      "cell_type": "code",
      "metadata": {
        "id": "GVYDbvgt1nZ_",
        "colab_type": "code",
        "colab": {
          "base_uri": "https://localhost:8080/",
          "height": 268
        },
        "outputId": "0b12a1c2-3ab9-4be2-ca5d-d413d4433ddf"
      },
      "source": [
        "pip install mlxtend"
      ],
      "execution_count": 71,
      "outputs": [
        {
          "output_type": "stream",
          "text": [
            "Requirement already satisfied: mlxtend in /usr/local/lib/python3.6/dist-packages (0.14.0)\n",
            "Requirement already satisfied: scipy>=0.17 in /usr/local/lib/python3.6/dist-packages (from mlxtend) (1.4.1)\n",
            "Requirement already satisfied: scikit-learn>=0.18 in /usr/local/lib/python3.6/dist-packages (from mlxtend) (0.23.1)\n",
            "Requirement already satisfied: setuptools in /usr/local/lib/python3.6/dist-packages (from mlxtend) (47.1.1)\n",
            "Requirement already satisfied: matplotlib>=1.5.1 in /usr/local/lib/python3.6/dist-packages (from mlxtend) (3.2.1)\n",
            "Requirement already satisfied: numpy>=1.10.4 in /usr/local/lib/python3.6/dist-packages (from mlxtend) (1.18.5)\n",
            "Requirement already satisfied: pandas>=0.17.1 in /usr/local/lib/python3.6/dist-packages (from mlxtend) (1.0.4)\n",
            "Requirement already satisfied: threadpoolctl>=2.0.0 in /usr/local/lib/python3.6/dist-packages (from scikit-learn>=0.18->mlxtend) (2.1.0)\n",
            "Requirement already satisfied: joblib>=0.11 in /usr/local/lib/python3.6/dist-packages (from scikit-learn>=0.18->mlxtend) (0.15.1)\n",
            "Requirement already satisfied: cycler>=0.10 in /usr/local/lib/python3.6/dist-packages (from matplotlib>=1.5.1->mlxtend) (0.10.0)\n",
            "Requirement already satisfied: python-dateutil>=2.1 in /usr/local/lib/python3.6/dist-packages (from matplotlib>=1.5.1->mlxtend) (2.8.1)\n",
            "Requirement already satisfied: kiwisolver>=1.0.1 in /usr/local/lib/python3.6/dist-packages (from matplotlib>=1.5.1->mlxtend) (1.2.0)\n",
            "Requirement already satisfied: pyparsing!=2.0.4,!=2.1.2,!=2.1.6,>=2.0.1 in /usr/local/lib/python3.6/dist-packages (from matplotlib>=1.5.1->mlxtend) (2.4.7)\n",
            "Requirement already satisfied: pytz>=2017.2 in /usr/local/lib/python3.6/dist-packages (from pandas>=0.17.1->mlxtend) (2018.9)\n",
            "Requirement already satisfied: six in /usr/local/lib/python3.6/dist-packages (from cycler>=0.10->matplotlib>=1.5.1->mlxtend) (1.12.0)\n"
          ],
          "name": "stdout"
        }
      ]
    },
    {
      "cell_type": "code",
      "metadata": {
        "id": "bx5l8cY0z21f",
        "colab_type": "code",
        "colab": {
          "base_uri": "https://localhost:8080/",
          "height": 313
        },
        "outputId": "e2611143-f658-44d3-abd6-3237612b7efe"
      },
      "source": [
        "cf = metrics.confusion_matrix(expected,predicted,labels = [1,-1])\n",
        "print(cf)\n",
        "## this command is only for google collab \n",
        "## in the below figure \" 1 is actually showing -1 and 0 is actually showing 1\"\n",
        "fig, ax = plot_confusion_matrix(conf_mat = cf)\n",
        "                                \n",
        "## It canbe used in any platform\n",
        "# fig, ax = plot_confusion_matrix(conf_mat = cf, class_names = [1,-1])\n",
        "plt.show()"
      ],
      "execution_count": 75,
      "outputs": [
        {
          "output_type": "stream",
          "text": [
            "[[320  41]\n",
            " [  8 264]]\n"
          ],
          "name": "stdout"
        },
        {
          "output_type": "display_data",
          "data": {
            "image/png": "[encoded data removed]",
            "text/plain": [
              "<Figure size 432x288 with 1 Axes>"
            ]
          },
          "metadata": {
            "tags": [],
            "needs_background": "light"
          }
        }
      ]
    },
    {
      "cell_type": "code",
      "metadata": {
        "trusted": true,
        "id": "8EHpanQGfOUH",
        "colab_type": "code",
        "colab": {
          "base_uri": "https://localhost:8080/",
          "height": 167
        },
        "outputId": "f126b3a9-6e34-485d-c631-af4da06b8808"
      },
      "source": [
        "from sklearn import metrics\n",
        "print(metrics.classification_report(expected, predicted))\n",
        "# print(metrics.confusion_matrix(expected,predicted))"
      ],
      "execution_count": 79,
      "outputs": [
        {
          "output_type": "stream",
          "text": [
            "              precision    recall  f1-score   support\n",
            "\n",
            "          -1       0.86      0.98      0.92       281\n",
            "           1       0.98      0.87      0.92       352\n",
            "\n",
            "    accuracy                           0.92       633\n",
            "   macro avg       0.92      0.93      0.92       633\n",
            "weighted avg       0.93      0.92      0.92       633\n",
            "\n"
          ],
          "name": "stdout"
        }
      ]
    },
    {
      "cell_type": "markdown",
      "metadata": {
        "id": "ywD3TAtU0B53",
        "colab_type": "text"
      },
      "source": [
        "### find the F1 score"
      ]
    },
    {
      "cell_type": "code",
      "metadata": {
        "trusted": true,
        "id": "tXUN76kgfOUN",
        "colab_type": "code",
        "colab": {
          "base_uri": "https://localhost:8080/",
          "height": 33
        },
        "outputId": "b963de42-5a54-4768-c0be-834bbc448e87"
      },
      "source": [
        "from sklearn.metrics import f1_score\n",
        "f1_score(expected, predicted, average='macro')"
      ],
      "execution_count": 80,
      "outputs": [
        {
          "output_type": "execute_result",
          "data": {
            "text/plain": [
              "0.9192248508125556"
            ]
          },
          "metadata": {
            "tags": []
          },
          "execution_count": 80
        }
      ]
    }
  ]
}